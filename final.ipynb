{
 "metadata": {
  "language_info": {
   "codemirror_mode": {
    "name": "ipython",
    "version": 3
   },
   "file_extension": ".py",
   "mimetype": "text/x-python",
   "name": "python",
   "nbconvert_exporter": "python",
   "pygments_lexer": "ipython3",
   "version": "3.9.0-final"
  },
  "orig_nbformat": 2,
  "kernelspec": {
   "name": "python390jvsc74a57bd07812ea015bdcee6f23a998adcdd2ef97c151c0c241b7b7070987d9313e41299d",
   "display_name": "Python 3.9.0 64-bit"
  },
  "metadata": {
   "interpreter": {
    "hash": "7812ea015bdcee6f23a998adcdd2ef97c151c0c241b7b7070987d9313e41299d"
   }
  }
 },
 "nbformat": 4,
 "nbformat_minor": 2,
 "cells": [
  {
   "cell_type": "code",
   "execution_count": 129,
   "metadata": {},
   "outputs": [
    {
     "output_type": "stream",
     "name": "stderr",
     "text": [
      "/Users/chenjianyu/Library/Python/3.9/lib/python/site-packages/ipykernel/ipkernel.py:287: DeprecationWarning: `should_run_async` will not call `transform_cell` automatically in the future. Please pass the result to `transformed_cell` argument and any exception that happen during thetransform in `preprocessing_exc_tuple` in IPython 7.17 and above.\n  and should_run_async(code)\n"
     ]
    }
   ],
   "source": [
    "# General packages\n",
    "import os \n",
    "import datetime as dt\n",
    "import pandas as pd\n",
    "import numpy as np\n",
    "from pandas.io.json import json_normalize\n",
    "import json\n",
    "import glob\n",
    "\n",
    "# Text Processing\n",
    "import nltk\n",
    "from nltk import word_tokenize, TweetTokenizer, sent_tokenize, RegexpTokenizer\n",
    "from nltk.stem import PorterStemmer\n",
    "from nltk.corpus import stopwords\n",
    "import re\n",
    "import gensim\n",
    "from gensim.models import CoherenceModel\n",
    "import pyLDAvis.gensim\n",
    "from sklearn.decomposition import LatentDirichletAllocation\n",
    "\n",
    "# Topic Modelling\n",
    "import gensim\n",
    "from gensim.models import CoherenceModel\n",
    "import pyLDAvis.gensim\n",
    "\n",
    "# Plots\n",
    "import matplotlib.pyplot as plt\n",
    "\n",
    "import pickle\n",
    "from utils import *"
   ]
  },
  {
   "source": [
    "# Data Preprocessing\n",
    "\n",
    "## Converting json files into csv files"
   ],
   "cell_type": "markdown",
   "metadata": {}
  },
  {
   "cell_type": "code",
   "execution_count": null,
   "metadata": {},
   "outputs": [],
   "source": [
    "path = '/Users/chenjianyu/Desktop/Y2S2/IS450 Text Mining and Language Processing/Project/AmazonReviews/'\n",
    "\n",
    "product_files = [filename for filename in os.listdir(path) if filename != '.DS_Store']\n",
    "\n",
    "for product in product_files:\n",
    "    product_df = pd.DataFrame()\n",
    "\n",
    "    product_file_path = path + product\n",
    "    for filename in glob.glob(os.path.join(product_file_path, '*.json')):\n",
    "        with open(os.path.join(os.getcwd(), filename), 'r') as f:\n",
    "            data = json.load(f) #loading json data file\n",
    "            df = json_normalize(data) # normalizing json data to flatten the data so that it can be converted to Pandas dataframe\n",
    "            df1 = pd.DataFrame(df['Reviews'][0]) # extracting the reviews and store in a temp df\n",
    "            if len(df) != 0: # check if df is empty\n",
    "                # empty df means that there was no text review by that user, and we want to remove such data as it is not meaningful to us\n",
    "                df1['Product_ID'] = df.iloc[0]['ProductInfo.ProductID']\n",
    "                df1['Product_Name'] = df.iloc[0]['ProductInfo.Name']\n",
    "                df1['Product_Features'] = df.iloc[0]['ProductInfo.Features']\n",
    "                df1['Product_Price'] = df.iloc[0]['ProductInfo.Price']\n",
    "                \n",
    "                product_df = product_df.append(df1, ignore_index = True) # append into the product df created earlier if there is a review\n",
    "    \n",
    "    # drop records with no reviews\n",
    "    product_df.dropna(subset = ['Content', 'Product_Name'], inplace = True)\n",
    "\n",
    "    # exporting processed data into csv file\n",
    "    os.mkdir('Cleaned Data') # creating a new directory to store the data\n",
    "    product_df.to_csv(f'Cleaned Data/{product}_reviews.csv') "
   ]
  },
  {
   "source": [],
   "cell_type": "markdown",
   "metadata": {}
  },
  {
   "source": [
    "# Exploratory Data Analysis"
   ],
   "cell_type": "markdown",
   "metadata": {}
  },
  {
   "source": [
    "## Creating a bar chart for number of reviews against each product category"
   ],
   "cell_type": "markdown",
   "metadata": {}
  },
  {
   "cell_type": "code",
   "execution_count": 14,
   "metadata": {},
   "outputs": [
    {
     "output_type": "stream",
     "name": "stderr",
     "text": [
      "/Users/chenjianyu/Library/Python/3.8/lib/python/site-packages/IPython/core/interactiveshell.py:3146: DtypeWarning: Columns (4) have mixed types.Specify dtype option on import or set low_memory=False.\n  has_raised = await self.run_ast_nodes(code_ast.body, cell_name,\n"
     ]
    }
   ],
   "source": [
    "file_path = './Data'\n",
    "csv_files = [filename for filename in os.listdir(file_path) if filename.endswith('reviews.csv')]\n",
    "\n",
    "num_reviews = {\n",
    "    'product': [],\n",
    "    'reviews': []\n",
    "}\n",
    "\n",
    "for filename in csv_files:\n",
    "    df = pd.read_csv(f'{file_path}/{filename}')\n",
    "    product_name = filename[:-4] # remove '.csv' at the end of each csv file\n",
    "    num_reviews['product'].append(product_name)\n",
    "    num_reviews['reviews'].append(len(df))"
   ]
  },
  {
   "cell_type": "code",
   "execution_count": null,
   "metadata": {},
   "outputs": [],
   "source": [
    "fig = plt.figure()\n",
    "ax = fig.add_axes([0, 0,2,2])\n",
    "product = num_reviews['product']\n",
    "reviews_num = num_reviews['reviews']\n",
    "ax.bar(product, reviews_num)\n",
    "plt.title(\"Bar chart of number of reviews for each product category\", fontsize = 20)\n",
    "plt.xlabel(\"Products\", fontsize = 15)\n",
    "plt.ylabel(\"Number of reviews\",fontsize = 15)\n",
    "for i in range(len(num_reviews['product'])):\n",
    "    plt.text(x=i-0.20, y = num_reviews['reviews'][i]+5000 , s=f\"{num_reviews['reviews'][i]}\" , fontdict=dict(fontsize=15))\n",
    "# ax.set_xticks()\n",
    "plt.tight_layout()\n",
    "plt.show()"
   ]
  },
  {
   "source": [
    "## Check for NA/empty reviews content"
   ],
   "cell_type": "markdown",
   "metadata": {}
  },
  {
   "cell_type": "code",
   "execution_count": 15,
   "metadata": {},
   "outputs": [
    {
     "output_type": "stream",
     "name": "stdout",
     "text": [
      "          laptops_reviews          \n",
      "--------------------------------------------------\n",
      "<class 'pandas.core.frame.DataFrame'>\n",
      "RangeIndex: 40762 entries, 0 to 40761\n",
      "Data columns (total 12 columns):\n",
      " #   Column             Non-Null Count  Dtype  \n",
      "---  ------             --------------  -----  \n",
      " 0   Unnamed: 0         40762 non-null  int64  \n",
      " 1   Title              40761 non-null  object \n",
      " 2   Author             40693 non-null  object \n",
      " 3   ReviewID           40762 non-null  object \n",
      " 4   Overall            40762 non-null  float64\n",
      " 5   Content            40744 non-null  object \n",
      " 6   Date               40760 non-null  object \n",
      " 7   Product_ProductID  40762 non-null  object \n",
      " 8   Product_Name       20670 non-null  object \n",
      " 9   Product_Features   20554 non-null  object \n",
      " 10  Product_Price      19377 non-null  object \n",
      " 11  Product_ImgURL     20647 non-null  object \n",
      "dtypes: float64(1), int64(1), object(10)\n",
      "memory usage: 3.7+ MB\n",
      "None\n",
      "\n",
      "          video_surveillance_reviews          \n",
      "--------------------------------------------------\n",
      "<class 'pandas.core.frame.DataFrame'>\n",
      "RangeIndex: 59334 entries, 0 to 59333\n",
      "Data columns (total 12 columns):\n",
      " #   Column             Non-Null Count  Dtype  \n",
      "---  ------             --------------  -----  \n",
      " 0   Unnamed: 0         59334 non-null  int64  \n",
      " 1   Product_ProductID  59334 non-null  object \n",
      " 2   Product_Name       57828 non-null  object \n",
      " 3   Product_Features   57699 non-null  object \n",
      " 4   Product_Price      57807 non-null  object \n",
      " 5   Product_ImgURL     57782 non-null  object \n",
      " 6   Title              59334 non-null  object \n",
      " 7   Author             59317 non-null  object \n",
      " 8   ReviewID           59334 non-null  object \n",
      " 9   Overall            59334 non-null  float64\n",
      " 10  Content            58607 non-null  object \n",
      " 11  Date               59334 non-null  object \n",
      "dtypes: float64(1), int64(1), object(10)\n",
      "memory usage: 5.4+ MB\n",
      "None\n",
      "\n",
      "          cameras_reviews          \n",
      "--------------------------------------------------\n",
      "<class 'pandas.core.frame.DataFrame'>\n",
      "RangeIndex: 472542 entries, 0 to 472541\n",
      "Data columns (total 12 columns):\n",
      " #   Column             Non-Null Count   Dtype  \n",
      "---  ------             --------------   -----  \n",
      " 0   Unnamed: 0         472542 non-null  int64  \n",
      " 1   Title              472539 non-null  object \n",
      " 2   Author             468114 non-null  object \n",
      " 3   ReviewID           472542 non-null  object \n",
      " 4   Overall            472542 non-null  float64\n",
      " 5   Content            471119 non-null  object \n",
      " 6   Date               472538 non-null  object \n",
      " 7   Product_ProductID  472542 non-null  object \n",
      " 8   Product_Name       430632 non-null  object \n",
      " 9   Product_Features   427228 non-null  object \n",
      " 10  Product_Price      424005 non-null  object \n",
      " 11  Product_ImgURL     430483 non-null  object \n",
      "dtypes: float64(1), int64(1), object(10)\n",
      "memory usage: 43.3+ MB\n",
      "None\n",
      "\n",
      "          tablets_reviews          \n",
      "--------------------------------------------------\n",
      "<class 'pandas.core.frame.DataFrame'>\n",
      "RangeIndex: 124470 entries, 0 to 124469\n",
      "Data columns (total 12 columns):\n",
      " #   Column             Non-Null Count   Dtype \n",
      "---  ------             --------------   ----- \n",
      " 0   Unnamed: 0         124470 non-null  int64 \n",
      " 1   Title              124463 non-null  object\n",
      " 2   Author             124431 non-null  object\n",
      " 3   ReviewID           124470 non-null  object\n",
      " 4   Overall            124470 non-null  object\n",
      " 5   Content            124422 non-null  object\n",
      " 6   Date               124462 non-null  object\n",
      " 7   Product_ProductID  124470 non-null  object\n",
      " 8   Product_Name       54720 non-null   object\n",
      " 9   Product_Features   41189 non-null   object\n",
      " 10  Product_Price      48923 non-null   object\n",
      " 11  Product_ImgURL     41365 non-null   object\n",
      "dtypes: int64(1), object(11)\n",
      "memory usage: 11.4+ MB\n",
      "None\n",
      "\n",
      "          mobilephone_reviews          \n",
      "--------------------------------------------------\n",
      "<class 'pandas.core.frame.DataFrame'>\n",
      "RangeIndex: 186016 entries, 0 to 186015\n",
      "Data columns (total 12 columns):\n",
      " #   Column             Non-Null Count   Dtype  \n",
      "---  ------             --------------   -----  \n",
      " 0   Unnamed: 0         186016 non-null  int64  \n",
      " 1   Title              186008 non-null  object \n",
      " 2   Author             185711 non-null  object \n",
      " 3   ReviewID           186016 non-null  object \n",
      " 4   Overall            186016 non-null  float64\n",
      " 5   Content            185993 non-null  object \n",
      " 6   Date               186015 non-null  object \n",
      " 7   Product_ProductID  186016 non-null  object \n",
      " 8   Product_Name       175331 non-null  object \n",
      " 9   Product_Features   162819 non-null  object \n",
      " 10  Product_Price      175257 non-null  object \n",
      " 11  Product_ImgURL     165323 non-null  object \n",
      "dtypes: float64(1), int64(1), object(10)\n",
      "memory usage: 17.0+ MB\n",
      "None\n",
      "\n",
      "          TVs_reviews          \n",
      "--------------------------------------------------\n",
      "<class 'pandas.core.frame.DataFrame'>\n",
      "RangeIndex: 233402 entries, 0 to 233401\n",
      "Data columns (total 12 columns):\n",
      " #   Column             Non-Null Count   Dtype  \n",
      "---  ------             --------------   -----  \n",
      " 0   Unnamed: 0         233402 non-null  int64  \n",
      " 1   Title              233400 non-null  object \n",
      " 2   Author             233288 non-null  object \n",
      " 3   ReviewID           233402 non-null  object \n",
      " 4   Overall            233402 non-null  float64\n",
      " 5   Content            233401 non-null  object \n",
      " 6   Date               233402 non-null  object \n",
      " 7   Product_ProductID  233402 non-null  object \n",
      " 8   Product_Name       228148 non-null  object \n",
      " 9   Product_Features   218981 non-null  object \n",
      " 10  Product_Price      196114 non-null  object \n",
      " 11  Product_ImgURL     223702 non-null  object \n",
      "dtypes: float64(1), int64(1), object(10)\n",
      "memory usage: 21.4+ MB\n",
      "None\n",
      "\n"
     ]
    }
   ],
   "source": [
    "for filename in csv_files:\n",
    "    df = pd.read_csv(f'{file_path}/{filename}')\n",
    "    print(' '* 10 + filename[:-4] + ' '* 10)\n",
    "    print('-'*50)\n",
    "    print(df.info())\n",
    "    print()"
   ]
  },
  {
   "source": [
    "## Check for spam/duplicate comments"
   ],
   "cell_type": "markdown",
   "metadata": {}
  },
  {
   "cell_type": "code",
   "execution_count": 16,
   "metadata": {},
   "outputs": [
    {
     "output_type": "stream",
     "name": "stdout",
     "text": [
      "Total comments in laptops category is: 40762\n",
      "Unique comments in laptops category is: 36472\n",
      "\n",
      "Total comments in video_surveillance category is: 59334\n",
      "Unique comments in video_surveillance category is: 44468\n",
      "\n",
      "Total comments in cameras category is: 472542\n",
      "Unique comments in cameras category is: 220261\n",
      "\n",
      "/Users/chenjianyu/Library/Python/3.8/lib/python/site-packages/IPython/core/interactiveshell.py:3146: DtypeWarning: Columns (4) have mixed types.Specify dtype option on import or set low_memory=False.\n",
      "  has_raised = await self.run_ast_nodes(code_ast.body, cell_name,\n",
      "Total comments in tablets category is: 124470\n",
      "Unique comments in tablets category is: 65111\n",
      "\n",
      "Total comments in mobilephone category is: 186016\n",
      "Unique comments in mobilephone category is: 149984\n",
      "\n",
      "Total comments in TVs category is: 233402\n",
      "Unique comments in TVs category is: 114488\n",
      "\n"
     ]
    }
   ],
   "source": [
    "for filename in csv_files:\n",
    "    df = pd.read_csv(f'{file_path}/{filename}')\n",
    "    print(f\"Total comments in {filename[:-12]} category is: {len(df['Content'])}\")\n",
    "    print(f\"Unique comments in {filename[:-12]} category is: {len(df['Content'].unique())}\")\n",
    "    print()"
   ]
  },
  {
   "source": [
    "Contains duplicates, go to excel to check in details"
   ],
   "cell_type": "markdown",
   "metadata": {}
  },
  {
   "source": [
    "# Data Cleaning \n",
    "<br>\n",
    "\n",
    "### - Merging standardized Product ID to every products' reviews dataframe\n",
    "- For a product base model, there may be several different product names and product ID. Hence, manual work was put in to standardize the Product IDs for all product names which are actually referring to the same base model. \n",
    "\n",
    "### - Remove NA rows\n",
    "### - Remove Spam/Duplicates rows"
   ],
   "cell_type": "markdown",
   "metadata": {}
  },
  {
   "cell_type": "code",
   "execution_count": 73,
   "metadata": {},
   "outputs": [
    {
     "output_type": "stream",
     "name": "stdout",
     "text": [
      "['TVs_reviews.csv', 'cameras_reviews.csv', 'laptops_reviews.csv', 'mobilephone_reviews.csv', 'tablets_reviews.csv', 'video_surveillance_reviews.csv']\n",
      "['TVs_products.csv', 'cameras_products.csv', 'laptops_products.csv', 'mobilephone_products.csv', 'tablets_products.csv', 'video_surveillance_products.csv']\n",
      "/Users/chenjianyu/Library/Python/3.9/lib/python/site-packages/ipykernel/ipkernel.py:287: DeprecationWarning: `should_run_async` will not call `transform_cell` automatically in the future. Please pass the result to `transformed_cell` argument and any exception that happen during thetransform in `preprocessing_exc_tuple` in IPython 7.17 and above.\n",
      "  and should_run_async(code)\n"
     ]
    }
   ],
   "source": [
    "file_path = './Data'\n",
    "prod_IDs_path = './Data/ProductIDs/'\n",
    "data_files = [filename for filename in os.listdir(file_path) if filename.endswith('reviews.csv')]\n",
    "data_files.sort()\n",
    "prod_IDs_files = [filename for filename in os.listdir(prod_IDs_path) if filename.endswith('.csv')]\n",
    "prod_IDs_files.sort()\n",
    "print(data_files)\n",
    "print(prod_IDs_files)"
   ]
  },
  {
   "cell_type": "code",
   "execution_count": 74,
   "metadata": {},
   "outputs": [
    {
     "output_type": "stream",
     "name": "stderr",
     "text": [
      "/Users/chenjianyu/Library/Python/3.9/lib/python/site-packages/ipykernel/ipkernel.py:287: DeprecationWarning: `should_run_async` will not call `transform_cell` automatically in the future. Please pass the result to `transformed_cell` argument and any exception that happen during thetransform in `preprocessing_exc_tuple` in IPython 7.17 and above.\n",
      "  and should_run_async(code)\n",
      "TVs\n",
      "----------\n",
      "Before cleaning: 257996\n",
      "After cleaning: 217823\n",
      "\n",
      "cameras\n",
      "----------\n",
      "Before cleaning: 484159\n",
      "After cleaning: 224942\n",
      "\n",
      "laptops\n",
      "----------\n",
      "Before cleaning: 40821\n",
      "After cleaning: 19942\n",
      "\n",
      "mobilephone\n",
      "----------\n",
      "Before cleaning: 202280\n",
      "After cleaning: 146131\n",
      "\n",
      "/Users/chenjianyu/Library/Python/3.9/lib/python/site-packages/IPython/core/interactiveshell.py:3146: DtypeWarning: Columns (4) have mixed types.Specify dtype option on import or set low_memory=False.\n",
      "  has_raised = await self.run_ast_nodes(code_ast.body, cell_name,\n",
      "tablets\n",
      "----------\n",
      "Before cleaning: 140785\n",
      "After cleaning: 45275\n",
      "\n",
      "video_surveillance\n",
      "----------\n",
      "Before cleaning: 64645\n",
      "After cleaning: 50840\n",
      "\n"
     ]
    }
   ],
   "source": [
    "for i in range(len(data_files)):\n",
    "    reviews = pd.read_csv(f'{file_path}/{data_files[i]}', index_col=0)\n",
    "    products = pd.read_csv(f'{prod_IDs_path}/{prod_IDs_files[i]}', index_col=0).reset_index()\n",
    "    products.drop('Counts', axis=1, inplace=True)\n",
    "    products.rename(columns={'Product': 'Product_Name'}, inplace=True)\n",
    "\n",
    "    # merging the standardized product IDs to reviews dataframs\n",
    "    merged = pd.merge(reviews, products, how='left', on=['Product_Name'])\n",
    "    merged.drop(['Product_ProductID', 'Product_ImgURL', ], axis=1, inplace=True) # drop original product ID column and product image URL (not meaningful in our analysis)\n",
    "    print(data_files[i][:-12])\n",
    "    print('-'*10)\n",
    "    print(f'Before cleaning: {len(merged)}')\n",
    "\n",
    "    # drop rows if there is NA is either Product_Name/Review Content columns\n",
    "    merged.dropna(subset=['Product_Name'], inplace=True)\n",
    "    merged.dropna(subset=['Content'], inplace=True)\n",
    "\n",
    "    # drop duplicates/spam \n",
    "    merged.drop_duplicates(subset=['Author', 'ReviewID', 'Date', 'Content', 'ProductID'], inplace=True)\n",
    "    merged.drop_duplicates(subset=['Date', 'Content', 'ProductID'], inplace=True)\n",
    "    print(f'After cleaning: {len(merged)}')\n",
    "    print()\n",
    "\n",
    "    merged.to_csv(f'{file_path}/Cleaned Data/{data_files[i]}')"
   ]
  },
  {
   "source": [
    "## Creating a bar chart for number of reviews against each product category"
   ],
   "cell_type": "markdown",
   "metadata": {}
  },
  {
   "source": [
    "file_path = './Cleaned Data/Data'\n",
    "csv_files = [filename for filename in os.listdir(file_path) if filename.endswith('reviews.csv')]\n",
    "\n",
    "num_reviews = {\n",
    "    'product': [],\n",
    "    'reviews': []\n",
    "}\n",
    "\n",
    "for filename in csv_files:\n",
    "    df = pd.read_csv(f'{file_path}/{filename}')\n",
    "    product_name = filename[:-4] # remove '.csv' at the end of each csv file\n",
    "    num_reviews['product'].append(product_name)\n",
    "    num_reviews['reviews'].append(len(df))"
   ],
   "cell_type": "code",
   "metadata": {},
   "execution_count": null,
   "outputs": []
  },
  {
   "cell_type": "code",
   "execution_count": null,
   "metadata": {},
   "outputs": [],
   "source": [
    "fig = plt.figure()\n",
    "ax = fig.add_axes([0, 0,2,2])\n",
    "product = num_reviews['product']\n",
    "reviews_num = num_reviews['reviews']\n",
    "ax.bar(product, reviews_num)\n",
    "plt.title(\"Bar chart of number of reviews for each product category\", fontsize = 20)\n",
    "plt.xlabel(\"Products\", fontsize = 15)\n",
    "plt.ylabel(\"Number of reviews\",fontsize = 15)\n",
    "for i in range(len(num_reviews['product'])):\n",
    "    plt.text(x=i-0.20, y = num_reviews['reviews'][i]+5000 , s=f\"{num_reviews['reviews'][i]}\" , fontdict=dict(fontsize=15))\n",
    "# ax.set_xticks()\n",
    "plt.tight_layout()\n",
    "plt.show()"
   ]
  },
  {
   "cell_type": "code",
   "execution_count": null,
   "metadata": {},
   "outputs": [],
   "source": []
  },
  {
   "source": [
    "# Sentiment Analysis"
   ],
   "cell_type": "markdown",
   "metadata": {}
  },
  {
   "cell_type": "code",
   "execution_count": 117,
   "metadata": {},
   "outputs": [
    {
     "output_type": "stream",
     "name": "stderr",
     "text": [
      "/Users/chenjianyu/Library/Python/3.9/lib/python/site-packages/ipykernel/ipkernel.py:287: DeprecationWarning: `should_run_async` will not call `transform_cell` automatically in the future. Please pass the result to `transformed_cell` argument and any exception that happen during thetransform in `preprocessing_exc_tuple` in IPython 7.17 and above.\n  and should_run_async(code)\n"
     ]
    }
   ],
   "source": [
    "def sent_tokenize_to_df(df):\n",
    "    sentences_dict = {'Sentences': [], 'Product Name': []}\n",
    "\n",
    "    for i, row in df.iterrows():\n",
    "        sentences = sent_tokenize(df['Content'].iloc[i])\n",
    "        for sent in sentences:\n",
    "            sentences_dict['Sentences'].append(sent)\n",
    "            sentences_dict['Product Name'].append(df['Product_Name'].iloc[i])\n",
    "\n",
    "    final_df = pd.DataFrame(sentences_dict)\n",
    "    # final_df.drop_duplicates(subset=['Sentences'], inplace=True)\n",
    "    final_df.reset_index(inplace=True)\n",
    "    return final_df\n",
    "\n",
    "def vader_compound_score(x):\n",
    "    vader_analyser = SentimentIntensityAnalyzer()\n",
    "    score = vader_analyser.polarity_scores(x)\n",
    "    return score['compound']\n",
    "\n",
    "def vader_sentiment(df):\n",
    "    df['Vader_compound_score'] = df['Sentences'].apply(lambda x: vader_compound_score(x))\n",
    "    return df\n",
    "\n",
    "def textblob_sentiment(df):\n",
    "    df['tb_polarity'] = df['Sentences'].apply(lambda x: TextBlob(x).sentiment.polarity)\n",
    "    df['tb_subjectivity'] = df['Sentences'].apply(lambda x: TextBlob(x).sentiment.subjectivity)\n",
    "    return df\n",
    "\n",
    "def emotions(df):\n",
    "    emotions_clf = pickle.load(open('tfidf_svm.sav', 'rb'))\n",
    "    df['emotion'] = df['Sentences'].apply(lambda x: emotions_clf.predict([x]))\n",
    "    return df\n",
    "\n",
    "def get_top_positive_reviews(category, pid, n):\n",
    "    df = pd.read_csv(f'./Data/Cleaned Data/{category}_reviews.csv', index_col=0)\n",
    "    df = df[df['ProductID'] == pid].reset_index()\n",
    "    sent_df = sent_tokenize_to_df(df)\n",
    "\n",
    "    sent_df = vader_sentiment(sent_df)\n",
    "    sent_df = textblob_sentiment(sent_df)\n",
    "    sent_df = emotions(sent_df)\n",
    "    sent_df['final_sentiment'] = sent_df['Vader_compound_score'] + sent_df['tb_polarity']\n",
    "\n",
    "    reviews = sent_df.sort_values(by='final_sentiment', ascending=False)['Sentences'].to_list()\n",
    "\n",
    "    print(f'Product ID: {pid}\\n')\n",
    "\n",
    "    names = list(set(sent_df['Product Name'].to_list()))\n",
    "    for i in range(len(names)):\n",
    "        if i == 0:\n",
    "            print(f'Product Name:\\n{names[i]}')\n",
    "        else:\n",
    "            print(' '*14 + str(names[i]))\n",
    "    print()\n",
    "        \n",
    "    for i in range(n):\n",
    "        print(f'Rank {i+1} review:\\n{reviews[i]}')\n",
    "        print()\n",
    "\n",
    "def get_top_negative_reviews(category, pid, n):\n",
    "    df = pd.read_csv(f'./Data/Cleaned Data/{category}_reviews.csv', index_col=0)\n",
    "    df = df[df['ProductID'] == pid].reset_index()\n",
    "    sent_df = sent_tokenize_to_df(df)\n",
    "\n",
    "    sent_df = vader_sentiment(sent_df)\n",
    "    sent_df = textblob_sentiment(sent_df)\n",
    "    sent_df = emotions(sent_df)\n",
    "    sent_df['final_sentiment'] = sent_df['Vader_compound_score'] + sent_df['tb_polarity']\n",
    "\n",
    "    reviews = sent_df.sort_values(by='final_sentiment', ascending=True)['Sentences'].to_list()\n",
    "\n",
    "    print(f'Product ID: {pid}\\n')\n",
    "\n",
    "    names = list(set(sent_df['Product Name'].to_list()))\n",
    "    for i in range(len(names)):\n",
    "        if i == 0:\n",
    "            print(f'Product Name:\\n{names[i]}')\n",
    "        else:\n",
    "            print(' '*14 + str(names[i]))\n",
    "    print()\n",
    "        \n",
    "    for i in range(n):\n",
    "        print(f'Rank {i+1} review:\\n{reviews[i]}')\n",
    "        print()\n",
    "    \n",
    "def reviews_by_emotions(category, pid, emotion, n):\n",
    "    df = pd.read_csv(f'./Data/Cleaned Data/{category}_reviews.csv', index_col=0)\n",
    "    df = df[df['ProductID'] == pid].reset_index()\n",
    "    sent_df = sent_tokenize_to_df(df)\n",
    "\n",
    "    sent_df = vader_sentiment(sent_df)\n",
    "    sent_df = textblob_sentiment(sent_df)\n",
    "    sent_df = emotions(sent_df)\n",
    "    sent_df['final_sentiment'] = sent_df['Vader_compound_score'] + sent_df['tb_polarity']\n",
    "\n",
    "    reviews_emotion = sent_df[sent_df['emotion'] == emotion].reset_index()\n",
    "\n",
    "    if emotion == 'joy':\n",
    "        reviews = reviews_emotion.sort_values(by='final_sentiment', ascending=False)['Sentences'].to_list()\n",
    "    else:\n",
    "        reviews = reviews_emotion.sort_values(by='final_sentiment', ascending=True)['Sentences'].to_list()\n",
    "    \n",
    "\n",
    "    print(f'Product ID: {pid}\\n')\n",
    "\n",
    "    names = list(set(reviews_emotion['Product Name'].to_list()))\n",
    "    for i in range(len(names)):\n",
    "        if i == 0:\n",
    "            print(f'Product Name:\\n{names[i]}')\n",
    "        else:\n",
    "            print(' '*14 + str(names[i]))\n",
    "    print()\n",
    "\n",
    "    print(f'Review Emotion: {emotion}\\n')\n",
    "        \n",
    "    for i in range(n):\n",
    "        print(f'Rank {i+1} review:\\n{reviews[i]}')\n",
    "        print()"
   ]
  },
  {
   "cell_type": "code",
   "execution_count": 111,
   "metadata": {},
   "outputs": [
    {
     "output_type": "stream",
     "name": "stderr",
     "text": [
      "/Users/chenjianyu/Library/Python/3.9/lib/python/site-packages/ipykernel/ipkernel.py:287: DeprecationWarning: `should_run_async` will not call `transform_cell` automatically in the future. Please pass the result to `transformed_cell` argument and any exception that happen during thetransform in `preprocessing_exc_tuple` in IPython 7.17 and above.\n",
      "  and should_run_async(code)\n",
      "Product ID: B002C74D7A\n",
      "\n",
      "Product Name:\n",
      "Apple MacBook Pro MC725LL/A 17-Inch Laptop (OLD VERSION)\n",
      "\n",
      "Rank 1 review:\n",
      "The battery life is excellent and the screen resolution is excellent\n",
      "\n",
      "Rank 2 review:\n",
      "Perfect Screen resolution for content creation work.\n",
      "\n",
      "Rank 3 review:\n",
      "I would like to let people know more than just about how great this laptop is, i want to let them also know how great amazon was from start to finish!\n",
      "\n",
      "Rank 4 review:\n",
      "THIS THING IS THE BEST LAPTOP I HAVE EVER USED IN MY LIFE!...\n",
      "\n",
      "Rank 5 review:\n",
      "Great job Apple!\n",
      "\n",
      "Rank 6 review:\n",
      "Excellent Product!\n",
      "\n",
      "Rank 7 review:\n",
      "I will add to this review in the coming days and describe my experience with the Amazon A-Z guarantee.As to the laptop, you will definitely be happy with it.\n",
      "\n",
      "Rank 8 review:\n",
      "Fantastically bright, beautiful LCD.\n",
      "\n",
      "Rank 9 review:\n",
      "island-style) keys that allow for great tactile feedback to touch typers with lit keys9.\n",
      "\n",
      "Rank 10 review:\n",
      "SO GLAD I MADE THE PURCHASE :D\n",
      "\n"
     ]
    }
   ],
   "source": [
    "get_top_positive_reviews('laptops', 'B002C74D7A', 10)"
   ]
  },
  {
   "cell_type": "code",
   "execution_count": 112,
   "metadata": {},
   "outputs": [
    {
     "output_type": "stream",
     "name": "stderr",
     "text": [
      "/Users/chenjianyu/Library/Python/3.9/lib/python/site-packages/ipykernel/ipkernel.py:287: DeprecationWarning: `should_run_async` will not call `transform_cell` automatically in the future. Please pass the result to `transformed_cell` argument and any exception that happen during thetransform in `preprocessing_exc_tuple` in IPython 7.17 and above.\n",
      "  and should_run_async(code)\n",
      "Product ID: B002C74D7A\n",
      "\n",
      "Product Name:\n",
      "Apple MacBook Pro MC725LL/A 17-Inch Laptop (OLD VERSION)\n",
      "\n",
      "Rank 1 review:\n",
      "Too bad I don't know how to use a Mac or it would be mine instead of my wife's.\n",
      "\n",
      "Rank 2 review:\n",
      "Unfortunately unless you order from Apple there's no way to add the high-res display (1680x1050).\n",
      "\n",
      "Rank 3 review:\n",
      "For example, I had an Outlook utility that allowed 1 or 2-click email filing when sent or read - I cannot find anything like that for Mac Outlook, and I am very sorry not to have it.\n",
      "\n",
      "Rank 4 review:\n",
      "The next day when I contacted the seller - because of a really lame lie he told - I fully understood at that time I had become the victim of fraud.However, because Amazon would not allow me to file a fraud claim until a full 26-27 days after the sale date, I did not get a timely refund, and I was forced to watch as the unscrupulous seller sold the same non-existant laptop repeatedly from this page.Now the seller's profile page has a long list of people reporting their own experiences of fraud.\n",
      "\n",
      "Rank 5 review:\n",
      "You may have read about problems with this new model but with current updates from Mac i have had no problems.\n",
      "\n",
      "Rank 6 review:\n",
      "You could really choke the system with the above load, if you have only 5400rpm hard drive installed.\n",
      "\n",
      "Rank 7 review:\n",
      "However, the main thing the Mac does not do is to give me error messages (except the occasional error from - where else - Microsoft Office), and it also does not inexplicably slow to a crawl at least three times each day.\n",
      "\n",
      "Rank 8 review:\n",
      "The only problem with this plan was that these products would not run on my rock-solid G5 Mac.While my G5 Mac Pro still felt snappy and responsive, this laptop absolutely destroys it!\n",
      "\n",
      "Rank 9 review:\n",
      "Incidentally, changing just about any of the internal components appears to be relatively straight forward, as the back plate removes to expose all.To conclude, this is one speedy machine who's only noticeable flaw is the included large but unimpressive hard drive.\n",
      "\n",
      "Rank 10 review:\n",
      "Weird...\n",
      "\n"
     ]
    }
   ],
   "source": [
    "get_top_negative_reviews('laptops', 'B002C74D7A', 10)"
   ]
  },
  {
   "cell_type": "code",
   "execution_count": 118,
   "metadata": {},
   "outputs": [
    {
     "output_type": "stream",
     "name": "stderr",
     "text": [
      "/Users/chenjianyu/Library/Python/3.9/lib/python/site-packages/ipykernel/ipkernel.py:287: DeprecationWarning: `should_run_async` will not call `transform_cell` automatically in the future. Please pass the result to `transformed_cell` argument and any exception that happen during thetransform in `preprocessing_exc_tuple` in IPython 7.17 and above.\n",
      "  and should_run_async(code)\n",
      "Product ID: B002C74D7A\n",
      "\n",
      "Product Name:\n",
      "Apple MacBook Pro MC725LL/A 17-Inch Laptop (OLD VERSION)\n",
      "\n",
      "Review Emotion: joy\n",
      "\n",
      "Rank 1 review:\n",
      "The battery life is excellent and the screen resolution is excellent\n",
      "\n",
      "Rank 2 review:\n",
      "Perfect Screen resolution for content creation work.\n",
      "\n",
      "Rank 3 review:\n",
      "I would like to let people know more than just about how great this laptop is, i want to let them also know how great amazon was from start to finish!\n",
      "\n",
      "Rank 4 review:\n",
      "THIS THING IS THE BEST LAPTOP I HAVE EVER USED IN MY LIFE!...\n",
      "\n",
      "Rank 5 review:\n",
      "Great job Apple!\n",
      "\n"
     ]
    }
   ],
   "source": [
    "reviews_by_emotions('laptops', 'B002C74D7A', 'joy', 5)"
   ]
  },
  {
   "source": [
    "# Topic Modelling"
   ],
   "cell_type": "markdown",
   "metadata": {}
  },
  {
   "cell_type": "code",
   "execution_count": 138,
   "metadata": {},
   "outputs": [
    {
     "output_type": "stream",
     "name": "stderr",
     "text": [
      "/Users/chenjianyu/Library/Python/3.9/lib/python/site-packages/ipykernel/ipkernel.py:287: DeprecationWarning: `should_run_async` will not call `transform_cell` automatically in the future. Please pass the result to `transformed_cell` argument and any exception that happen during thetransform in `preprocessing_exc_tuple` in IPython 7.17 and above.\n  and should_run_async(code)\n"
     ]
    }
   ],
   "source": [
    "os.environ.update({'MALLET_HOME':r'/Users/chenjianyu/NLP_Text_Processing/mallet-2.0.8'})\n",
    "mallet_path = r'/Users/chenjianyu/NLP_Text_Processing/mallet-2.0.8/bin/mallet' "
   ]
  },
  {
   "cell_type": "code",
   "execution_count": 136,
   "metadata": {},
   "outputs": [
    {
     "output_type": "stream",
     "name": "stderr",
     "text": [
      "/Users/chenjianyu/Library/Python/3.9/lib/python/site-packages/ipykernel/ipkernel.py:287: DeprecationWarning: `should_run_async` will not call `transform_cell` automatically in the future. Please pass the result to `transformed_cell` argument and any exception that happen during thetransform in `preprocessing_exc_tuple` in IPython 7.17 and above.\n  and should_run_async(code)\n"
     ]
    }
   ],
   "source": [
    "stop_list = nltk.corpus.stopwords.words('english')\n",
    "stop_list += []\n",
    "\n",
    "def corpus2docs(df, stop_list):\n",
    "    docs1 = [TweetTokenizer().tokenize(comment) for comment in df['Sentences']]\n",
    "    # for i, comment in enumerate(docs1):\n",
    "    #     tags = nltk.pos_tag(comment)\n",
    "    #     docs_tags = [tag[0].lower() for tag in tags if tag[1] in pos_tags]\n",
    "    #     docs1[i] = docs_tags\n",
    "    docs2 = [[w.lower() for w in doc] for doc in docs1]\n",
    "    docs3 = [[w for w in doc if len(w) > 2] for doc in docs2]\n",
    "    docs4 = [[w for w in doc if re.search('^[a-z]+$', w)] for doc in docs3]\n",
    "    docs5 = [[w for w in doc if w not in stop_list] for doc in docs4]\n",
    "    return docs5\n",
    "\n",
    "def docs2vecs(docs, dic):\n",
    "    vecs = [dic.doc2bow(doc) for doc in docs]\n",
    "    return vecs"
   ]
  },
  {
   "cell_type": "code",
   "execution_count": 137,
   "metadata": {},
   "outputs": [
    {
     "output_type": "stream",
     "name": "stderr",
     "text": [
      "/Users/chenjianyu/Library/Python/3.9/lib/python/site-packages/ipykernel/ipkernel.py:287: DeprecationWarning: `should_run_async` will not call `transform_cell` automatically in the future. Please pass the result to `transformed_cell` argument and any exception that happen during thetransform in `preprocessing_exc_tuple` in IPython 7.17 and above.\n  and should_run_async(code)\n"
     ]
    }
   ],
   "source": [
    "df = pd.read_csv(f'./Data/Cleaned Data/laptops_reviews.csv', index_col=0)\n",
    "df = df[df['ProductID'] == 'B002C74D7A'].reset_index()\n",
    "sent_df = sent_tokenize_to_df(df)\n",
    "\n",
    "docs = corpus2docs(sent_df)\n",
    "dic = gensim.corpora.Dictionary(docs)\n",
    "vecs = docs2vecs(docs, dic)"
   ]
  },
  {
   "cell_type": "code",
   "execution_count": 162,
   "metadata": {},
   "outputs": [
    {
     "output_type": "stream",
     "name": "stderr",
     "text": [
      "/Users/chenjianyu/Library/Python/3.9/lib/python/site-packages/ipykernel/ipkernel.py:287: DeprecationWarning: `should_run_async` will not call `transform_cell` automatically in the future. Please pass the result to `transformed_cell` argument and any exception that happen during thetransform in `preprocessing_exc_tuple` in IPython 7.17 and above.\n",
      "  and should_run_async(code)\n",
      "#Topics: 2 Score: 0.5153460927158997\n",
      "#Topics: 3 Score: 0.550764359071697\n",
      "#Topics: 4 Score: 0.6004770973011092\n",
      "#Topics: 5 Score: 0.6136470259313744\n",
      "#Topics: 6 Score: 0.6339404729620873\n",
      "#Topics: 7 Score: 0.6662357246298715\n",
      "#Topics: 8 Score: 0.6553978174311795\n",
      "#Topics: 9 Score: 0.6777025551898037\n",
      "#Topics: 10 Score: 0.663097525120305\n",
      "#Topics: 11 Score: 0.6831871276160012\n",
      "#Topics: 12 Score: 0.68332542626489\n",
      "#Topics: 13 Score: 0.7085060603459699\n",
      "#Topics: 14 Score: 0.721658559164882\n"
     ]
    }
   ],
   "source": [
    "model_list = []\n",
    "coherence_values = []\n",
    "model_topics = []\n",
    "\n",
    "for num_topics in range(2, 15):\n",
    "    # lda_gensim = gensim.models.ldamodel.LdaModel(corpus=valuable_vecs, id2word=valuable_dic, num_topics=num_topics, random_state=99, iterations=100)\n",
    "    lda_mallet = gensim.models.wrappers.LdaMallet(mallet_path, iterations=500, corpus=vecs, num_topics=num_topics, id2word=dic, random_seed=99)\n",
    "    coherencemodel = CoherenceModel(model=lda_mallet, texts=docs, dictionary=dic, coherence='c_v')\n",
    "    model_topics.append(num_topics)\n",
    "    model_list.append(lda_mallet)\n",
    "    coherence_values.append(coherencemodel.get_coherence())\n",
    "    print(\"#Topics: \" + str(num_topics) + \" Score: \" + str(coherencemodel.get_coherence()))"
   ]
  },
  {
   "cell_type": "code",
   "execution_count": 143,
   "metadata": {},
   "outputs": [
    {
     "output_type": "stream",
     "name": "stderr",
     "text": [
      "/Users/chenjianyu/Library/Python/3.9/lib/python/site-packages/ipykernel/ipkernel.py:287: DeprecationWarning: `should_run_async` will not call `transform_cell` automatically in the future. Please pass the result to `transformed_cell` argument and any exception that happen during thetransform in `preprocessing_exc_tuple` in IPython 7.17 and above.\n  and should_run_async(code)\n"
     ]
    },
    {
     "output_type": "display_data",
     "data": {
      "text/plain": "<Figure size 432x288 with 1 Axes>",
      "image/svg+xml": "<?xml version=\"1.0\" encoding=\"utf-8\" standalone=\"no\"?>\n<!DOCTYPE svg PUBLIC \"-//W3C//DTD SVG 1.1//EN\"\n  \"http://www.w3.org/Graphics/SVG/1.1/DTD/svg11.dtd\">\n<!-- Created with matplotlib (https://matplotlib.org/) -->\n<svg height=\"262.19625pt\" version=\"1.1\" viewBox=\"0 0 392.14375 262.19625\" width=\"392.14375pt\" xmlns=\"http://www.w3.org/2000/svg\" xmlns:xlink=\"http://www.w3.org/1999/xlink\">\n <metadata>\n  <rdf:RDF xmlns:cc=\"http://creativecommons.org/ns#\" xmlns:dc=\"http://purl.org/dc/elements/1.1/\" xmlns:rdf=\"http://www.w3.org/1999/02/22-rdf-syntax-ns#\">\n   <cc:Work>\n    <dc:type rdf:resource=\"http://purl.org/dc/dcmitype/StillImage\"/>\n    <dc:date>2021-04-03T20:23:52.460176</dc:date>\n    <dc:format>image/svg+xml</dc:format>\n    <dc:creator>\n     <cc:Agent>\n      <dc:title>Matplotlib v3.3.3, https://matplotlib.org/</dc:title>\n     </cc:Agent>\n    </dc:creator>\n   </cc:Work>\n  </rdf:RDF>\n </metadata>\n <defs>\n  <style type=\"text/css\">*{stroke-linecap:butt;stroke-linejoin:round;}</style>\n </defs>\n <g id=\"figure_1\">\n  <g id=\"patch_1\">\n   <path d=\"M 0 262.19625 \nL 392.14375 262.19625 \nL 392.14375 0 \nL 0 0 \nz\n\" style=\"fill:none;\"/>\n  </g>\n  <g id=\"axes_1\">\n   <g id=\"patch_2\">\n    <path d=\"M 50.14375 224.64 \nL 384.94375 224.64 \nL 384.94375 7.2 \nL 50.14375 7.2 \nz\n\" style=\"fill:#ffffff;\"/>\n   </g>\n   <g id=\"matplotlib.axis_1\">\n    <g id=\"xtick_1\">\n     <g id=\"line2d_1\">\n      <defs>\n       <path d=\"M 0 0 \nL 0 3.5 \n\" id=\"m1bf029139d\" style=\"stroke:#000000;stroke-width:0.8;\"/>\n      </defs>\n      <g>\n       <use style=\"stroke:#000000;stroke-width:0.8;\" x=\"65.361932\" xlink:href=\"#m1bf029139d\" y=\"224.64\"/>\n      </g>\n     </g>\n     <g id=\"text_1\">\n      <!-- 2 -->\n      <g transform=\"translate(62.180682 239.238437)scale(0.1 -0.1)\">\n       <defs>\n        <path d=\"M 19.1875 8.296875 \nL 53.609375 8.296875 \nL 53.609375 0 \nL 7.328125 0 \nL 7.328125 8.296875 \nQ 12.9375 14.109375 22.625 23.890625 \nQ 32.328125 33.6875 34.8125 36.53125 \nQ 39.546875 41.84375 41.421875 45.53125 \nQ 43.3125 49.21875 43.3125 52.78125 \nQ 43.3125 58.59375 39.234375 62.25 \nQ 35.15625 65.921875 28.609375 65.921875 \nQ 23.96875 65.921875 18.8125 64.3125 \nQ 13.671875 62.703125 7.8125 59.421875 \nL 7.8125 69.390625 \nQ 13.765625 71.78125 18.9375 73 \nQ 24.125 74.21875 28.421875 74.21875 \nQ 39.75 74.21875 46.484375 68.546875 \nQ 53.21875 62.890625 53.21875 53.421875 \nQ 53.21875 48.921875 51.53125 44.890625 \nQ 49.859375 40.875 45.40625 35.40625 \nQ 44.1875 33.984375 37.640625 27.21875 \nQ 31.109375 20.453125 19.1875 8.296875 \nz\n\" id=\"DejaVuSans-50\"/>\n       </defs>\n       <use xlink:href=\"#DejaVuSans-50\"/>\n      </g>\n     </g>\n    </g>\n    <g id=\"xtick_2\">\n     <g id=\"line2d_2\">\n      <g>\n       <use style=\"stroke:#000000;stroke-width:0.8;\" x=\"116.089205\" xlink:href=\"#m1bf029139d\" y=\"224.64\"/>\n      </g>\n     </g>\n     <g id=\"text_2\">\n      <!-- 4 -->\n      <g transform=\"translate(112.907955 239.238437)scale(0.1 -0.1)\">\n       <defs>\n        <path d=\"M 37.796875 64.3125 \nL 12.890625 25.390625 \nL 37.796875 25.390625 \nz\nM 35.203125 72.90625 \nL 47.609375 72.90625 \nL 47.609375 25.390625 \nL 58.015625 25.390625 \nL 58.015625 17.1875 \nL 47.609375 17.1875 \nL 47.609375 0 \nL 37.796875 0 \nL 37.796875 17.1875 \nL 4.890625 17.1875 \nL 4.890625 26.703125 \nz\n\" id=\"DejaVuSans-52\"/>\n       </defs>\n       <use xlink:href=\"#DejaVuSans-52\"/>\n      </g>\n     </g>\n    </g>\n    <g id=\"xtick_3\">\n     <g id=\"line2d_3\">\n      <g>\n       <use style=\"stroke:#000000;stroke-width:0.8;\" x=\"166.816477\" xlink:href=\"#m1bf029139d\" y=\"224.64\"/>\n      </g>\n     </g>\n     <g id=\"text_3\">\n      <!-- 6 -->\n      <g transform=\"translate(163.635227 239.238437)scale(0.1 -0.1)\">\n       <defs>\n        <path d=\"M 33.015625 40.375 \nQ 26.375 40.375 22.484375 35.828125 \nQ 18.609375 31.296875 18.609375 23.390625 \nQ 18.609375 15.53125 22.484375 10.953125 \nQ 26.375 6.390625 33.015625 6.390625 \nQ 39.65625 6.390625 43.53125 10.953125 \nQ 47.40625 15.53125 47.40625 23.390625 \nQ 47.40625 31.296875 43.53125 35.828125 \nQ 39.65625 40.375 33.015625 40.375 \nz\nM 52.59375 71.296875 \nL 52.59375 62.3125 \nQ 48.875 64.0625 45.09375 64.984375 \nQ 41.3125 65.921875 37.59375 65.921875 \nQ 27.828125 65.921875 22.671875 59.328125 \nQ 17.53125 52.734375 16.796875 39.40625 \nQ 19.671875 43.65625 24.015625 45.921875 \nQ 28.375 48.1875 33.59375 48.1875 \nQ 44.578125 48.1875 50.953125 41.515625 \nQ 57.328125 34.859375 57.328125 23.390625 \nQ 57.328125 12.15625 50.6875 5.359375 \nQ 44.046875 -1.421875 33.015625 -1.421875 \nQ 20.359375 -1.421875 13.671875 8.265625 \nQ 6.984375 17.96875 6.984375 36.375 \nQ 6.984375 53.65625 15.1875 63.9375 \nQ 23.390625 74.21875 37.203125 74.21875 \nQ 40.921875 74.21875 44.703125 73.484375 \nQ 48.484375 72.75 52.59375 71.296875 \nz\n\" id=\"DejaVuSans-54\"/>\n       </defs>\n       <use xlink:href=\"#DejaVuSans-54\"/>\n      </g>\n     </g>\n    </g>\n    <g id=\"xtick_4\">\n     <g id=\"line2d_4\">\n      <g>\n       <use style=\"stroke:#000000;stroke-width:0.8;\" x=\"217.54375\" xlink:href=\"#m1bf029139d\" y=\"224.64\"/>\n      </g>\n     </g>\n     <g id=\"text_4\">\n      <!-- 8 -->\n      <g transform=\"translate(214.3625 239.238437)scale(0.1 -0.1)\">\n       <defs>\n        <path d=\"M 31.78125 34.625 \nQ 24.75 34.625 20.71875 30.859375 \nQ 16.703125 27.09375 16.703125 20.515625 \nQ 16.703125 13.921875 20.71875 10.15625 \nQ 24.75 6.390625 31.78125 6.390625 \nQ 38.8125 6.390625 42.859375 10.171875 \nQ 46.921875 13.96875 46.921875 20.515625 \nQ 46.921875 27.09375 42.890625 30.859375 \nQ 38.875 34.625 31.78125 34.625 \nz\nM 21.921875 38.8125 \nQ 15.578125 40.375 12.03125 44.71875 \nQ 8.5 49.078125 8.5 55.328125 \nQ 8.5 64.0625 14.71875 69.140625 \nQ 20.953125 74.21875 31.78125 74.21875 \nQ 42.671875 74.21875 48.875 69.140625 \nQ 55.078125 64.0625 55.078125 55.328125 \nQ 55.078125 49.078125 51.53125 44.71875 \nQ 48 40.375 41.703125 38.8125 \nQ 48.828125 37.15625 52.796875 32.3125 \nQ 56.78125 27.484375 56.78125 20.515625 \nQ 56.78125 9.90625 50.3125 4.234375 \nQ 43.84375 -1.421875 31.78125 -1.421875 \nQ 19.734375 -1.421875 13.25 4.234375 \nQ 6.78125 9.90625 6.78125 20.515625 \nQ 6.78125 27.484375 10.78125 32.3125 \nQ 14.796875 37.15625 21.921875 38.8125 \nz\nM 18.3125 54.390625 \nQ 18.3125 48.734375 21.84375 45.5625 \nQ 25.390625 42.390625 31.78125 42.390625 \nQ 38.140625 42.390625 41.71875 45.5625 \nQ 45.3125 48.734375 45.3125 54.390625 \nQ 45.3125 60.0625 41.71875 63.234375 \nQ 38.140625 66.40625 31.78125 66.40625 \nQ 25.390625 66.40625 21.84375 63.234375 \nQ 18.3125 60.0625 18.3125 54.390625 \nz\n\" id=\"DejaVuSans-56\"/>\n       </defs>\n       <use xlink:href=\"#DejaVuSans-56\"/>\n      </g>\n     </g>\n    </g>\n    <g id=\"xtick_5\">\n     <g id=\"line2d_5\">\n      <g>\n       <use style=\"stroke:#000000;stroke-width:0.8;\" x=\"268.271023\" xlink:href=\"#m1bf029139d\" y=\"224.64\"/>\n      </g>\n     </g>\n     <g id=\"text_5\">\n      <!-- 10 -->\n      <g transform=\"translate(261.908523 239.238437)scale(0.1 -0.1)\">\n       <defs>\n        <path d=\"M 12.40625 8.296875 \nL 28.515625 8.296875 \nL 28.515625 63.921875 \nL 10.984375 60.40625 \nL 10.984375 69.390625 \nL 28.421875 72.90625 \nL 38.28125 72.90625 \nL 38.28125 8.296875 \nL 54.390625 8.296875 \nL 54.390625 0 \nL 12.40625 0 \nz\n\" id=\"DejaVuSans-49\"/>\n        <path d=\"M 31.78125 66.40625 \nQ 24.171875 66.40625 20.328125 58.90625 \nQ 16.5 51.421875 16.5 36.375 \nQ 16.5 21.390625 20.328125 13.890625 \nQ 24.171875 6.390625 31.78125 6.390625 \nQ 39.453125 6.390625 43.28125 13.890625 \nQ 47.125 21.390625 47.125 36.375 \nQ 47.125 51.421875 43.28125 58.90625 \nQ 39.453125 66.40625 31.78125 66.40625 \nz\nM 31.78125 74.21875 \nQ 44.046875 74.21875 50.515625 64.515625 \nQ 56.984375 54.828125 56.984375 36.375 \nQ 56.984375 17.96875 50.515625 8.265625 \nQ 44.046875 -1.421875 31.78125 -1.421875 \nQ 19.53125 -1.421875 13.0625 8.265625 \nQ 6.59375 17.96875 6.59375 36.375 \nQ 6.59375 54.828125 13.0625 64.515625 \nQ 19.53125 74.21875 31.78125 74.21875 \nz\n\" id=\"DejaVuSans-48\"/>\n       </defs>\n       <use xlink:href=\"#DejaVuSans-49\"/>\n       <use x=\"63.623047\" xlink:href=\"#DejaVuSans-48\"/>\n      </g>\n     </g>\n    </g>\n    <g id=\"xtick_6\">\n     <g id=\"line2d_6\">\n      <g>\n       <use style=\"stroke:#000000;stroke-width:0.8;\" x=\"318.998295\" xlink:href=\"#m1bf029139d\" y=\"224.64\"/>\n      </g>\n     </g>\n     <g id=\"text_6\">\n      <!-- 12 -->\n      <g transform=\"translate(312.635795 239.238437)scale(0.1 -0.1)\">\n       <use xlink:href=\"#DejaVuSans-49\"/>\n       <use x=\"63.623047\" xlink:href=\"#DejaVuSans-50\"/>\n      </g>\n     </g>\n    </g>\n    <g id=\"xtick_7\">\n     <g id=\"line2d_7\">\n      <g>\n       <use style=\"stroke:#000000;stroke-width:0.8;\" x=\"369.725568\" xlink:href=\"#m1bf029139d\" y=\"224.64\"/>\n      </g>\n     </g>\n     <g id=\"text_7\">\n      <!-- 14 -->\n      <g transform=\"translate(363.363068 239.238437)scale(0.1 -0.1)\">\n       <use xlink:href=\"#DejaVuSans-49\"/>\n       <use x=\"63.623047\" xlink:href=\"#DejaVuSans-52\"/>\n      </g>\n     </g>\n    </g>\n    <g id=\"text_8\">\n     <!-- Num Topics -->\n     <g transform=\"translate(188.994531 252.916562)scale(0.1 -0.1)\">\n      <defs>\n       <path d=\"M 9.8125 72.90625 \nL 23.09375 72.90625 \nL 55.421875 11.921875 \nL 55.421875 72.90625 \nL 64.984375 72.90625 \nL 64.984375 0 \nL 51.703125 0 \nL 19.390625 60.984375 \nL 19.390625 0 \nL 9.8125 0 \nz\n\" id=\"DejaVuSans-78\"/>\n       <path d=\"M 8.5 21.578125 \nL 8.5 54.6875 \nL 17.484375 54.6875 \nL 17.484375 21.921875 \nQ 17.484375 14.15625 20.5 10.265625 \nQ 23.53125 6.390625 29.59375 6.390625 \nQ 36.859375 6.390625 41.078125 11.03125 \nQ 45.3125 15.671875 45.3125 23.6875 \nL 45.3125 54.6875 \nL 54.296875 54.6875 \nL 54.296875 0 \nL 45.3125 0 \nL 45.3125 8.40625 \nQ 42.046875 3.421875 37.71875 1 \nQ 33.40625 -1.421875 27.6875 -1.421875 \nQ 18.265625 -1.421875 13.375 4.4375 \nQ 8.5 10.296875 8.5 21.578125 \nz\nM 31.109375 56 \nz\n\" id=\"DejaVuSans-117\"/>\n       <path d=\"M 52 44.1875 \nQ 55.375 50.25 60.0625 53.125 \nQ 64.75 56 71.09375 56 \nQ 79.640625 56 84.28125 50.015625 \nQ 88.921875 44.046875 88.921875 33.015625 \nL 88.921875 0 \nL 79.890625 0 \nL 79.890625 32.71875 \nQ 79.890625 40.578125 77.09375 44.375 \nQ 74.3125 48.1875 68.609375 48.1875 \nQ 61.625 48.1875 57.5625 43.546875 \nQ 53.515625 38.921875 53.515625 30.90625 \nL 53.515625 0 \nL 44.484375 0 \nL 44.484375 32.71875 \nQ 44.484375 40.625 41.703125 44.40625 \nQ 38.921875 48.1875 33.109375 48.1875 \nQ 26.21875 48.1875 22.15625 43.53125 \nQ 18.109375 38.875 18.109375 30.90625 \nL 18.109375 0 \nL 9.078125 0 \nL 9.078125 54.6875 \nL 18.109375 54.6875 \nL 18.109375 46.1875 \nQ 21.1875 51.21875 25.484375 53.609375 \nQ 29.78125 56 35.6875 56 \nQ 41.65625 56 45.828125 52.96875 \nQ 50 49.953125 52 44.1875 \nz\n\" id=\"DejaVuSans-109\"/>\n       <path id=\"DejaVuSans-32\"/>\n       <path d=\"M -0.296875 72.90625 \nL 61.375 72.90625 \nL 61.375 64.59375 \nL 35.5 64.59375 \nL 35.5 0 \nL 25.59375 0 \nL 25.59375 64.59375 \nL -0.296875 64.59375 \nz\n\" id=\"DejaVuSans-84\"/>\n       <path d=\"M 30.609375 48.390625 \nQ 23.390625 48.390625 19.1875 42.75 \nQ 14.984375 37.109375 14.984375 27.296875 \nQ 14.984375 17.484375 19.15625 11.84375 \nQ 23.34375 6.203125 30.609375 6.203125 \nQ 37.796875 6.203125 41.984375 11.859375 \nQ 46.1875 17.53125 46.1875 27.296875 \nQ 46.1875 37.015625 41.984375 42.703125 \nQ 37.796875 48.390625 30.609375 48.390625 \nz\nM 30.609375 56 \nQ 42.328125 56 49.015625 48.375 \nQ 55.71875 40.765625 55.71875 27.296875 \nQ 55.71875 13.875 49.015625 6.21875 \nQ 42.328125 -1.421875 30.609375 -1.421875 \nQ 18.84375 -1.421875 12.171875 6.21875 \nQ 5.515625 13.875 5.515625 27.296875 \nQ 5.515625 40.765625 12.171875 48.375 \nQ 18.84375 56 30.609375 56 \nz\n\" id=\"DejaVuSans-111\"/>\n       <path d=\"M 18.109375 8.203125 \nL 18.109375 -20.796875 \nL 9.078125 -20.796875 \nL 9.078125 54.6875 \nL 18.109375 54.6875 \nL 18.109375 46.390625 \nQ 20.953125 51.265625 25.265625 53.625 \nQ 29.59375 56 35.59375 56 \nQ 45.5625 56 51.78125 48.09375 \nQ 58.015625 40.1875 58.015625 27.296875 \nQ 58.015625 14.40625 51.78125 6.484375 \nQ 45.5625 -1.421875 35.59375 -1.421875 \nQ 29.59375 -1.421875 25.265625 0.953125 \nQ 20.953125 3.328125 18.109375 8.203125 \nz\nM 48.6875 27.296875 \nQ 48.6875 37.203125 44.609375 42.84375 \nQ 40.53125 48.484375 33.40625 48.484375 \nQ 26.265625 48.484375 22.1875 42.84375 \nQ 18.109375 37.203125 18.109375 27.296875 \nQ 18.109375 17.390625 22.1875 11.75 \nQ 26.265625 6.109375 33.40625 6.109375 \nQ 40.53125 6.109375 44.609375 11.75 \nQ 48.6875 17.390625 48.6875 27.296875 \nz\n\" id=\"DejaVuSans-112\"/>\n       <path d=\"M 9.421875 54.6875 \nL 18.40625 54.6875 \nL 18.40625 0 \nL 9.421875 0 \nz\nM 9.421875 75.984375 \nL 18.40625 75.984375 \nL 18.40625 64.59375 \nL 9.421875 64.59375 \nz\n\" id=\"DejaVuSans-105\"/>\n       <path d=\"M 48.78125 52.59375 \nL 48.78125 44.1875 \nQ 44.96875 46.296875 41.140625 47.34375 \nQ 37.3125 48.390625 33.40625 48.390625 \nQ 24.65625 48.390625 19.8125 42.84375 \nQ 14.984375 37.3125 14.984375 27.296875 \nQ 14.984375 17.28125 19.8125 11.734375 \nQ 24.65625 6.203125 33.40625 6.203125 \nQ 37.3125 6.203125 41.140625 7.25 \nQ 44.96875 8.296875 48.78125 10.40625 \nL 48.78125 2.09375 \nQ 45.015625 0.34375 40.984375 -0.53125 \nQ 36.96875 -1.421875 32.421875 -1.421875 \nQ 20.0625 -1.421875 12.78125 6.34375 \nQ 5.515625 14.109375 5.515625 27.296875 \nQ 5.515625 40.671875 12.859375 48.328125 \nQ 20.21875 56 33.015625 56 \nQ 37.15625 56 41.109375 55.140625 \nQ 45.0625 54.296875 48.78125 52.59375 \nz\n\" id=\"DejaVuSans-99\"/>\n       <path d=\"M 44.28125 53.078125 \nL 44.28125 44.578125 \nQ 40.484375 46.53125 36.375 47.5 \nQ 32.28125 48.484375 27.875 48.484375 \nQ 21.1875 48.484375 17.84375 46.4375 \nQ 14.5 44.390625 14.5 40.28125 \nQ 14.5 37.15625 16.890625 35.375 \nQ 19.28125 33.59375 26.515625 31.984375 \nL 29.59375 31.296875 \nQ 39.15625 29.25 43.1875 25.515625 \nQ 47.21875 21.78125 47.21875 15.09375 \nQ 47.21875 7.46875 41.1875 3.015625 \nQ 35.15625 -1.421875 24.609375 -1.421875 \nQ 20.21875 -1.421875 15.453125 -0.5625 \nQ 10.6875 0.296875 5.421875 2 \nL 5.421875 11.28125 \nQ 10.40625 8.6875 15.234375 7.390625 \nQ 20.0625 6.109375 24.8125 6.109375 \nQ 31.15625 6.109375 34.5625 8.28125 \nQ 37.984375 10.453125 37.984375 14.40625 \nQ 37.984375 18.0625 35.515625 20.015625 \nQ 33.0625 21.96875 24.703125 23.78125 \nL 21.578125 24.515625 \nQ 13.234375 26.265625 9.515625 29.90625 \nQ 5.8125 33.546875 5.8125 39.890625 \nQ 5.8125 47.609375 11.28125 51.796875 \nQ 16.75 56 26.8125 56 \nQ 31.78125 56 36.171875 55.265625 \nQ 40.578125 54.546875 44.28125 53.078125 \nz\n\" id=\"DejaVuSans-115\"/>\n      </defs>\n      <use xlink:href=\"#DejaVuSans-78\"/>\n      <use x=\"74.804688\" xlink:href=\"#DejaVuSans-117\"/>\n      <use x=\"138.183594\" xlink:href=\"#DejaVuSans-109\"/>\n      <use x=\"235.595703\" xlink:href=\"#DejaVuSans-32\"/>\n      <use x=\"267.382812\" xlink:href=\"#DejaVuSans-84\"/>\n      <use x=\"311.466797\" xlink:href=\"#DejaVuSans-111\"/>\n      <use x=\"372.648438\" xlink:href=\"#DejaVuSans-112\"/>\n      <use x=\"436.125\" xlink:href=\"#DejaVuSans-105\"/>\n      <use x=\"463.908203\" xlink:href=\"#DejaVuSans-99\"/>\n      <use x=\"518.888672\" xlink:href=\"#DejaVuSans-115\"/>\n     </g>\n    </g>\n   </g>\n   <g id=\"matplotlib.axis_2\">\n    <g id=\"ytick_1\">\n     <g id=\"line2d_8\">\n      <defs>\n       <path d=\"M 0 0 \nL -3.5 0 \n\" id=\"m7578801a60\" style=\"stroke:#000000;stroke-width:0.8;\"/>\n      </defs>\n      <g>\n       <use style=\"stroke:#000000;stroke-width:0.8;\" x=\"50.14375\" xlink:href=\"#m7578801a60\" y=\"181.553657\"/>\n      </g>\n     </g>\n     <g id=\"text_9\">\n      <!-- 0.55 -->\n      <g transform=\"translate(20.878125 185.352875)scale(0.1 -0.1)\">\n       <defs>\n        <path d=\"M 10.6875 12.40625 \nL 21 12.40625 \nL 21 0 \nL 10.6875 0 \nz\n\" id=\"DejaVuSans-46\"/>\n        <path d=\"M 10.796875 72.90625 \nL 49.515625 72.90625 \nL 49.515625 64.59375 \nL 19.828125 64.59375 \nL 19.828125 46.734375 \nQ 21.96875 47.46875 24.109375 47.828125 \nQ 26.265625 48.1875 28.421875 48.1875 \nQ 40.625 48.1875 47.75 41.5 \nQ 54.890625 34.8125 54.890625 23.390625 \nQ 54.890625 11.625 47.5625 5.09375 \nQ 40.234375 -1.421875 26.90625 -1.421875 \nQ 22.3125 -1.421875 17.546875 -0.640625 \nQ 12.796875 0.140625 7.71875 1.703125 \nL 7.71875 11.625 \nQ 12.109375 9.234375 16.796875 8.0625 \nQ 21.484375 6.890625 26.703125 6.890625 \nQ 35.15625 6.890625 40.078125 11.328125 \nQ 45.015625 15.765625 45.015625 23.390625 \nQ 45.015625 31 40.078125 35.4375 \nQ 35.15625 39.890625 26.703125 39.890625 \nQ 22.75 39.890625 18.8125 39.015625 \nQ 14.890625 38.140625 10.796875 36.28125 \nz\n\" id=\"DejaVuSans-53\"/>\n       </defs>\n       <use xlink:href=\"#DejaVuSans-48\"/>\n       <use x=\"63.623047\" xlink:href=\"#DejaVuSans-46\"/>\n       <use x=\"95.410156\" xlink:href=\"#DejaVuSans-53\"/>\n       <use x=\"159.033203\" xlink:href=\"#DejaVuSans-53\"/>\n      </g>\n     </g>\n    </g>\n    <g id=\"ytick_2\">\n     <g id=\"line2d_9\">\n      <g>\n       <use style=\"stroke:#000000;stroke-width:0.8;\" x=\"50.14375\" xlink:href=\"#m7578801a60\" y=\"133.647505\"/>\n      </g>\n     </g>\n     <g id=\"text_10\">\n      <!-- 0.60 -->\n      <g transform=\"translate(20.878125 137.446724)scale(0.1 -0.1)\">\n       <use xlink:href=\"#DejaVuSans-48\"/>\n       <use x=\"63.623047\" xlink:href=\"#DejaVuSans-46\"/>\n       <use x=\"95.410156\" xlink:href=\"#DejaVuSans-54\"/>\n       <use x=\"159.033203\" xlink:href=\"#DejaVuSans-48\"/>\n      </g>\n     </g>\n    </g>\n    <g id=\"ytick_3\">\n     <g id=\"line2d_10\">\n      <g>\n       <use style=\"stroke:#000000;stroke-width:0.8;\" x=\"50.14375\" xlink:href=\"#m7578801a60\" y=\"85.741353\"/>\n      </g>\n     </g>\n     <g id=\"text_11\">\n      <!-- 0.65 -->\n      <g transform=\"translate(20.878125 89.540572)scale(0.1 -0.1)\">\n       <use xlink:href=\"#DejaVuSans-48\"/>\n       <use x=\"63.623047\" xlink:href=\"#DejaVuSans-46\"/>\n       <use x=\"95.410156\" xlink:href=\"#DejaVuSans-54\"/>\n       <use x=\"159.033203\" xlink:href=\"#DejaVuSans-53\"/>\n      </g>\n     </g>\n    </g>\n    <g id=\"ytick_4\">\n     <g id=\"line2d_11\">\n      <g>\n       <use style=\"stroke:#000000;stroke-width:0.8;\" x=\"50.14375\" xlink:href=\"#m7578801a60\" y=\"37.835201\"/>\n      </g>\n     </g>\n     <g id=\"text_12\">\n      <!-- 0.70 -->\n      <g transform=\"translate(20.878125 41.63442)scale(0.1 -0.1)\">\n       <defs>\n        <path d=\"M 8.203125 72.90625 \nL 55.078125 72.90625 \nL 55.078125 68.703125 \nL 28.609375 0 \nL 18.3125 0 \nL 43.21875 64.59375 \nL 8.203125 64.59375 \nz\n\" id=\"DejaVuSans-55\"/>\n       </defs>\n       <use xlink:href=\"#DejaVuSans-48\"/>\n       <use x=\"63.623047\" xlink:href=\"#DejaVuSans-46\"/>\n       <use x=\"95.410156\" xlink:href=\"#DejaVuSans-55\"/>\n       <use x=\"159.033203\" xlink:href=\"#DejaVuSans-48\"/>\n      </g>\n     </g>\n    </g>\n    <g id=\"text_13\">\n     <!-- Coherence score -->\n     <g transform=\"translate(14.798438 157.752031)rotate(-90)scale(0.1 -0.1)\">\n      <defs>\n       <path d=\"M 64.40625 67.28125 \nL 64.40625 56.890625 \nQ 59.421875 61.53125 53.78125 63.8125 \nQ 48.140625 66.109375 41.796875 66.109375 \nQ 29.296875 66.109375 22.65625 58.46875 \nQ 16.015625 50.828125 16.015625 36.375 \nQ 16.015625 21.96875 22.65625 14.328125 \nQ 29.296875 6.6875 41.796875 6.6875 \nQ 48.140625 6.6875 53.78125 8.984375 \nQ 59.421875 11.28125 64.40625 15.921875 \nL 64.40625 5.609375 \nQ 59.234375 2.09375 53.4375 0.328125 \nQ 47.65625 -1.421875 41.21875 -1.421875 \nQ 24.65625 -1.421875 15.125 8.703125 \nQ 5.609375 18.84375 5.609375 36.375 \nQ 5.609375 53.953125 15.125 64.078125 \nQ 24.65625 74.21875 41.21875 74.21875 \nQ 47.75 74.21875 53.53125 72.484375 \nQ 59.328125 70.75 64.40625 67.28125 \nz\n\" id=\"DejaVuSans-67\"/>\n       <path d=\"M 54.890625 33.015625 \nL 54.890625 0 \nL 45.90625 0 \nL 45.90625 32.71875 \nQ 45.90625 40.484375 42.875 44.328125 \nQ 39.84375 48.1875 33.796875 48.1875 \nQ 26.515625 48.1875 22.3125 43.546875 \nQ 18.109375 38.921875 18.109375 30.90625 \nL 18.109375 0 \nL 9.078125 0 \nL 9.078125 75.984375 \nL 18.109375 75.984375 \nL 18.109375 46.1875 \nQ 21.34375 51.125 25.703125 53.5625 \nQ 30.078125 56 35.796875 56 \nQ 45.21875 56 50.046875 50.171875 \nQ 54.890625 44.34375 54.890625 33.015625 \nz\n\" id=\"DejaVuSans-104\"/>\n       <path d=\"M 56.203125 29.59375 \nL 56.203125 25.203125 \nL 14.890625 25.203125 \nQ 15.484375 15.921875 20.484375 11.0625 \nQ 25.484375 6.203125 34.421875 6.203125 \nQ 39.59375 6.203125 44.453125 7.46875 \nQ 49.3125 8.734375 54.109375 11.28125 \nL 54.109375 2.78125 \nQ 49.265625 0.734375 44.1875 -0.34375 \nQ 39.109375 -1.421875 33.890625 -1.421875 \nQ 20.796875 -1.421875 13.15625 6.1875 \nQ 5.515625 13.8125 5.515625 26.8125 \nQ 5.515625 40.234375 12.765625 48.109375 \nQ 20.015625 56 32.328125 56 \nQ 43.359375 56 49.78125 48.890625 \nQ 56.203125 41.796875 56.203125 29.59375 \nz\nM 47.21875 32.234375 \nQ 47.125 39.59375 43.09375 43.984375 \nQ 39.0625 48.390625 32.421875 48.390625 \nQ 24.90625 48.390625 20.390625 44.140625 \nQ 15.875 39.890625 15.1875 32.171875 \nz\n\" id=\"DejaVuSans-101\"/>\n       <path d=\"M 41.109375 46.296875 \nQ 39.59375 47.171875 37.8125 47.578125 \nQ 36.03125 48 33.890625 48 \nQ 26.265625 48 22.1875 43.046875 \nQ 18.109375 38.09375 18.109375 28.8125 \nL 18.109375 0 \nL 9.078125 0 \nL 9.078125 54.6875 \nL 18.109375 54.6875 \nL 18.109375 46.1875 \nQ 20.953125 51.171875 25.484375 53.578125 \nQ 30.03125 56 36.53125 56 \nQ 37.453125 56 38.578125 55.875 \nQ 39.703125 55.765625 41.0625 55.515625 \nz\n\" id=\"DejaVuSans-114\"/>\n       <path d=\"M 54.890625 33.015625 \nL 54.890625 0 \nL 45.90625 0 \nL 45.90625 32.71875 \nQ 45.90625 40.484375 42.875 44.328125 \nQ 39.84375 48.1875 33.796875 48.1875 \nQ 26.515625 48.1875 22.3125 43.546875 \nQ 18.109375 38.921875 18.109375 30.90625 \nL 18.109375 0 \nL 9.078125 0 \nL 9.078125 54.6875 \nL 18.109375 54.6875 \nL 18.109375 46.1875 \nQ 21.34375 51.125 25.703125 53.5625 \nQ 30.078125 56 35.796875 56 \nQ 45.21875 56 50.046875 50.171875 \nQ 54.890625 44.34375 54.890625 33.015625 \nz\n\" id=\"DejaVuSans-110\"/>\n      </defs>\n      <use xlink:href=\"#DejaVuSans-67\"/>\n      <use x=\"69.824219\" xlink:href=\"#DejaVuSans-111\"/>\n      <use x=\"131.005859\" xlink:href=\"#DejaVuSans-104\"/>\n      <use x=\"194.384766\" xlink:href=\"#DejaVuSans-101\"/>\n      <use x=\"255.908203\" xlink:href=\"#DejaVuSans-114\"/>\n      <use x=\"294.771484\" xlink:href=\"#DejaVuSans-101\"/>\n      <use x=\"356.294922\" xlink:href=\"#DejaVuSans-110\"/>\n      <use x=\"419.673828\" xlink:href=\"#DejaVuSans-99\"/>\n      <use x=\"474.654297\" xlink:href=\"#DejaVuSans-101\"/>\n      <use x=\"536.177734\" xlink:href=\"#DejaVuSans-32\"/>\n      <use x=\"567.964844\" xlink:href=\"#DejaVuSans-115\"/>\n      <use x=\"620.064453\" xlink:href=\"#DejaVuSans-99\"/>\n      <use x=\"675.044922\" xlink:href=\"#DejaVuSans-111\"/>\n      <use x=\"736.226562\" xlink:href=\"#DejaVuSans-114\"/>\n      <use x=\"775.089844\" xlink:href=\"#DejaVuSans-101\"/>\n     </g>\n    </g>\n   </g>\n   <g id=\"line2d_12\">\n    <path clip-path=\"url(#pe28f02182a)\" d=\"M 65.361932 214.756364 \nL 90.725568 180.821307 \nL 116.089205 133.190387 \nL 141.452841 120.571975 \nL 166.816477 101.128356 \nL 192.180114 70.185531 \nL 217.54375 80.56958 \nL 242.907386 59.198896 \nL 268.271023 73.192312 \nL 293.634659 53.944001 \nL 318.998295 53.811494 \nL 344.361932 29.685348 \nL 369.725568 17.083636 \n\" style=\"fill:none;stroke:#1f77b4;stroke-linecap:square;stroke-width:1.5;\"/>\n   </g>\n   <g id=\"patch_3\">\n    <path d=\"M 50.14375 224.64 \nL 50.14375 7.2 \n\" style=\"fill:none;stroke:#000000;stroke-linecap:square;stroke-linejoin:miter;stroke-width:0.8;\"/>\n   </g>\n   <g id=\"patch_4\">\n    <path d=\"M 384.94375 224.64 \nL 384.94375 7.2 \n\" style=\"fill:none;stroke:#000000;stroke-linecap:square;stroke-linejoin:miter;stroke-width:0.8;\"/>\n   </g>\n   <g id=\"patch_5\">\n    <path d=\"M 50.14375 224.64 \nL 384.94375 224.64 \n\" style=\"fill:none;stroke:#000000;stroke-linecap:square;stroke-linejoin:miter;stroke-width:0.8;\"/>\n   </g>\n   <g id=\"patch_6\">\n    <path d=\"M 50.14375 7.2 \nL 384.94375 7.2 \n\" style=\"fill:none;stroke:#000000;stroke-linecap:square;stroke-linejoin:miter;stroke-width:0.8;\"/>\n   </g>\n   <g id=\"legend_1\">\n    <g id=\"patch_7\">\n     <path d=\"M 57.14375 29.878125 \nL 94.642188 29.878125 \nQ 96.642188 29.878125 96.642188 27.878125 \nL 96.642188 14.2 \nQ 96.642188 12.2 94.642188 12.2 \nL 57.14375 12.2 \nQ 55.14375 12.2 55.14375 14.2 \nL 55.14375 27.878125 \nQ 55.14375 29.878125 57.14375 29.878125 \nz\n\" style=\"fill:#ffffff;opacity:0.8;stroke:#cccccc;stroke-linejoin:miter;\"/>\n    </g>\n    <g id=\"line2d_13\">\n     <path d=\"M 59.14375 20.298437 \nL 79.14375 20.298437 \n\" style=\"fill:none;stroke:#1f77b4;stroke-linecap:square;stroke-width:1.5;\"/>\n    </g>\n    <g id=\"line2d_14\"/>\n    <g id=\"text_14\">\n     <!-- c -->\n     <g transform=\"translate(87.14375 23.798437)scale(0.1 -0.1)\">\n      <use xlink:href=\"#DejaVuSans-99\"/>\n     </g>\n    </g>\n   </g>\n  </g>\n </g>\n <defs>\n  <clipPath id=\"pe28f02182a\">\n   <rect height=\"217.44\" width=\"334.8\" x=\"50.14375\" y=\"7.2\"/>\n  </clipPath>\n </defs>\n</svg>\n",
      "image/png": "[encoded data removed]"
     },
     "metadata": {
      "needs_background": "light"
     }
    }
   ],
   "source": [
    "import matplotlib.pyplot as plt\n",
    "\n",
    "limit=15; start=2; step=1;\n",
    "x = range(start, limit, step)\n",
    "plt.plot(x, coherence_values)\n",
    "plt.xlabel(\"Num Topics\")\n",
    "plt.ylabel(\"Coherence score\")\n",
    "plt.legend((\"coherence_values\"), loc='best')\n",
    "plt.show()"
   ]
  },
  {
   "cell_type": "code",
   "execution_count": 152,
   "metadata": {},
   "outputs": [
    {
     "output_type": "stream",
     "name": "stderr",
     "text": [
      "/Users/chenjianyu/Library/Python/3.9/lib/python/site-packages/ipykernel/ipkernel.py:287: DeprecationWarning: `should_run_async` will not call `transform_cell` automatically in the future. Please pass the result to `transformed_cell` argument and any exception that happen during thetransform in `preprocessing_exc_tuple` in IPython 7.17 and above.\n",
      "  and should_run_async(code)\n",
      "(0, '0.036*\"mac\" + 0.033*\"drive\" + 0.022*\"amazing\" + 0.022*\"upgrade\" + 0.019*\"video\" + 0.019*\"hard\" + 0.016*\"apple\" + 0.016*\"products\" + 0.016*\"performance\" + 0.016*\"windows\" + 0.014*\"times\" + 0.014*\"thing\" + 0.014*\"ssd\" + 0.014*\"run\" + 0.014*\"laptop\" + 0.014*\"time\" + 0.014*\"solid\" + 0.011*\"difference\" + 0.011*\"system\" + 0.011*\"machine\" + 0.011*\"programs\" + 0.011*\"included\" + 0.008*\"office\" + 0.008*\"free\" + 0.008*\"error\" + 0.008*\"faster\" + 0.008*\"speed\" + 0.008*\"back\" + 0.008*\"noticeable\" + 0.008*\"ram\"')\n",
      "\n",
      "(1, '0.040*\"mbp\" + 0.036*\"pro\" + 0.032*\"display\" + 0.029*\"macbook\" + 0.025*\"computers\" + 0.025*\"apple\" + 0.022*\"found\" + 0.022*\"generation\" + 0.018*\"previous\" + 0.014*\"small\" + 0.014*\"models\" + 0.014*\"screen\" + 0.011*\"bright\" + 0.011*\"decided\" + 0.011*\"keys\" + 0.011*\"years\" + 0.011*\"good\" + 0.011*\"monitors\" + 0.011*\"glossy\" + 0.007*\"incredible\" + 0.007*\"beautiful\" + 0.007*\"full\" + 0.007*\"end\" + 0.007*\"sizes\" + 0.007*\"install\" + 0.007*\"significantly\" + 0.007*\"bit\" + 0.007*\"find\" + 0.007*\"lcd\" + 0.007*\"sleek\"')\n",
      "\n",
      "(2, '0.038*\"amazon\" + 0.031*\"mac\" + 0.027*\"system\" + 0.023*\"find\" + 0.023*\"things\" + 0.023*\"applications\" + 0.019*\"read\" + 0.015*\"fraud\" + 0.015*\"powerful\" + 0.015*\"happy\" + 0.011*\"current\" + 0.011*\"longer\" + 0.011*\"email\" + 0.011*\"level\" + 0.011*\"days\" + 0.011*\"amazingly\" + 0.011*\"data\" + 0.011*\"full\" + 0.011*\"allowed\" + 0.011*\"problems\" + 0.011*\"mouse\" + 0.011*\"fast\" + 0.011*\"load\" + 0.008*\"place\" + 0.008*\"convenient\" + 0.008*\"describe\" + 0.008*\"claim\" + 0.008*\"transfer\" + 0.008*\"sellers\" + 0.008*\"specific\"')\n",
      "\n",
      "(3, '0.056*\"great\" + 0.038*\"amazon\" + 0.030*\"core\" + 0.026*\"upgraded\" + 0.026*\"laptop\" + 0.023*\"apple\" + 0.019*\"people\" + 0.019*\"seller\" + 0.019*\"purchase\" + 0.019*\"makes\" + 0.019*\"design\" + 0.019*\"mac\" + 0.019*\"time\" + 0.015*\"bought\" + 0.015*\"store\" + 0.015*\"save\" + 0.015*\"long\" + 0.011*\"quad\" + 0.011*\"student\" + 0.011*\"college\" + 0.011*\"buying\" + 0.011*\"ram\" + 0.011*\"worried\" + 0.011*\"memory\" + 0.011*\"unibody\" + 0.008*\"kit\" + 0.008*\"short\" + 0.008*\"improvements\" + 0.008*\"switching\" + 0.008*\"list\"')\n",
      "\n",
      "(4, '0.032*\"mbp\" + 0.032*\"graphics\" + 0.029*\"processor\" + 0.025*\"ghz\" + 0.022*\"card\" + 0.022*\"cores\" + 0.018*\"great\" + 0.018*\"intensive\" + 0.018*\"software\" + 0.018*\"memory\" + 0.014*\"macbook\" + 0.014*\"running\" + 0.014*\"gpu\" + 0.014*\"heavy\" + 0.014*\"users\" + 0.014*\"tools\" + 0.014*\"heat\" + 0.014*\"problem\" + 0.014*\"pros\" + 0.011*\"discrete\" + 0.011*\"integrated\" + 0.011*\"difference\" + 0.011*\"mac\" + 0.011*\"glass\" + 0.011*\"noise\" + 0.011*\"phenomenal\" + 0.011*\"expect\" + 0.011*\"amd\" + 0.007*\"lion\" + 0.007*\"higher\"')\n",
      "\n",
      "(5, '0.063*\"inch\" + 0.043*\"pro\" + 0.043*\"macbook\" + 0.037*\"model\" + 0.023*\"thunderbolt\" + 0.023*\"size\" + 0.020*\"laptop\" + 0.017*\"external\" + 0.014*\"usb\" + 0.014*\"power\" + 0.014*\"mbp\" + 0.014*\"worth\" + 0.014*\"port\" + 0.012*\"amazon\" + 0.012*\"recommend\" + 0.012*\"people\" + 0.012*\"firewire\" + 0.012*\"light\" + 0.012*\"cable\" + 0.012*\"adapter\" + 0.012*\"multiple\" + 0.012*\"displays\" + 0.009*\"make\" + 0.009*\"ports\" + 0.009*\"highly\" + 0.009*\"apple\" + 0.009*\"advantage\" + 0.009*\"drives\" + 0.009*\"state\" + 0.009*\"devices\"')\n",
      "\n",
      "(6, '0.043*\"screen\" + 0.037*\"computer\" + 0.028*\"battery\" + 0.022*\"resolution\" + 0.022*\"machine\" + 0.022*\"love\" + 0.019*\"price\" + 0.019*\"apple\" + 0.019*\"fast\" + 0.016*\"product\" + 0.016*\"set\" + 0.016*\"made\" + 0.012*\"display\" + 0.012*\"high\" + 0.012*\"works\" + 0.012*\"laptops\" + 0.012*\"excellent\" + 0.012*\"order\" + 0.012*\"buy\" + 0.009*\"user\" + 0.009*\"work\" + 0.009*\"description\" + 0.009*\"laptop\" + 0.009*\"wanted\" + 0.009*\"easy\" + 0.009*\"box\" + 0.009*\"add\" + 0.009*\"years\" + 0.009*\"coming\" + 0.009*\"bottom\"')\n",
      "\n"
     ]
    }
   ],
   "source": [
    "no_topics= 7#make this 2 to test. \n",
    "no_iter=500 #make this 50 to test\n",
    "\n",
    "lda_mallet = gensim.models.wrappers.LdaMallet(mallet_path, corpus=vecs, iterations=500, num_topics=no_topics, id2word=dic, random_seed=99, alpha=0.1)\n",
    "mallet_lda_model= gensim.models.wrappers.ldamallet.malletmodel2ldamodel(lda_mallet)\n",
    "\n",
    "vecTop = lda_mallet.show_topics(num_words=30)\n",
    "for i in range(0, 7):\n",
    "    print(vecTop[i])\n",
    "    print()"
   ]
  },
  {
   "cell_type": "code",
   "execution_count": 153,
   "metadata": {},
   "outputs": [
    {
     "output_type": "stream",
     "name": "stderr",
     "text": [
      "/Users/chenjianyu/Library/Python/3.9/lib/python/site-packages/ipykernel/ipkernel.py:287: DeprecationWarning: `should_run_async` will not call `transform_cell` automatically in the future. Please pass the result to `transformed_cell` argument and any exception that happen during thetransform in `preprocessing_exc_tuple` in IPython 7.17 and above.\n  and should_run_async(code)\n/Library/Frameworks/Python.framework/Versions/3.9/lib/python3.9/site-packages/pyLDAvis/_prepare.py:236: RuntimeWarning: divide by zero encountered in log\n  log_1 = np.log(pd.eval(\"(topic_given_term.T / topic_proportion)\"))\n/Library/Frameworks/Python.framework/Versions/3.9/lib/python3.9/site-packages/pyLDAvis/_prepare.py:259: RuntimeWarning: divide by zero encountered in log\n  log_lift = np.log(pd.eval(\"topic_term_dists / term_proportion\")).astype(\"float64\")\n/Library/Frameworks/Python.framework/Versions/3.9/lib/python3.9/site-packages/pyLDAvis/_prepare.py:260: RuntimeWarning: divide by zero encountered in log\n  log_ttd = np.log(topic_term_dists).astype(\"float64\")\n"
     ]
    }
   ],
   "source": [
    "pyLDAvis.enable_notebook()\n",
    "visual= pyLDAvis.gensim.prepare(mallet_lda_model, vecs, dic)\n",
    "pyLDAvis.save_html(visual, f\"test_viz.html\")"
   ]
  },
  {
   "cell_type": "code",
   "execution_count": null,
   "metadata": {},
   "outputs": [],
   "source": []
  },
  {
   "cell_type": "code",
   "execution_count": 155,
   "metadata": {},
   "outputs": [
    {
     "output_type": "stream",
     "name": "stderr",
     "text": [
      "/Users/chenjianyu/Library/Python/3.9/lib/python/site-packages/ipykernel/ipkernel.py:287: DeprecationWarning: `should_run_async` will not call `transform_cell` automatically in the future. Please pass the result to `transformed_cell` argument and any exception that happen during thetransform in `preprocessing_exc_tuple` in IPython 7.17 and above.\n  and should_run_async(code)\n"
     ]
    }
   ],
   "source": [
    "def format_topics_sentences(ldamodel, corpus, data, ori_data):\n",
    "    # Init output\n",
    "    sent_topics_df = pd.DataFrame()\n",
    "\n",
    "    # Get main topic in each document\n",
    "    for i, row in enumerate(ldamodel[corpus]):\n",
    "        row = sorted(row, key=lambda x: (x[1]), reverse=True)\n",
    "        # Get the Dominant topic, Perc Contribution and Keywords for each document\n",
    "        for j, (topic_num, prop_topic) in enumerate(row):\n",
    "            if j == 0:  # => dominant topic\n",
    "                wp = ldamodel.show_topic(topic_num)\n",
    "                topic_keywords = \", \".join([word for word, prop in wp])\n",
    "                sent_topics_df = sent_topics_df.append(pd.Series([int(topic_num), round(prop_topic,4), topic_keywords]), ignore_index=True)\n",
    "            else:\n",
    "                break\n",
    "    sent_topics_df.columns = ['Dominant_Topic', 'Perc_Contribution', 'Topic_Keywords']\n",
    "\n",
    "    # Add original text to the end of the output\n",
    "    contents = pd.Series(data)\n",
    "    ori_text = ori_data['Sentences']\n",
    "    sent_topics_df = pd.concat([sent_topics_df, contents, ori_text], axis=1)\n",
    "    df_dominant_topic = sent_topics_df.reset_index()\n",
    "    df_dominant_topic.columns = ['Document_No', 'Dominant_Topic', 'Topic_Perc_Contrib', 'Keywords', 'Tokenized Text', 'Original Text']\n",
    "\n",
    "    return df_dominant_topic"
   ]
  },
  {
   "cell_type": "code",
   "execution_count": 156,
   "metadata": {},
   "outputs": [
    {
     "output_type": "stream",
     "name": "stderr",
     "text": [
      "/Users/chenjianyu/Library/Python/3.9/lib/python/site-packages/ipykernel/ipkernel.py:287: DeprecationWarning: `should_run_async` will not call `transform_cell` automatically in the future. Please pass the result to `transformed_cell` argument and any exception that happen during thetransform in `preprocessing_exc_tuple` in IPython 7.17 and above.\n  and should_run_async(code)\n"
     ]
    },
    {
     "output_type": "execute_result",
     "data": {
      "text/plain": [
       "   Document_No  Dominant_Topic  Topic_Perc_Contrib  \\\n",
       "0            0             3.0              0.5234   \n",
       "1            1             6.0              0.9859   \n",
       "2            2             4.0              0.8521   \n",
       "3            3             2.0              0.4617   \n",
       "4            4             4.0              0.9832   \n",
       "\n",
       "                                            Keywords  \\\n",
       "0  great, amazon, core, upgraded, laptop, apple, ...   \n",
       "1  screen, computer, battery, resolution, machine...   \n",
       "2  mbp, graphics, processor, ghz, card, cores, me...   \n",
       "3  amazon, mac, system, find, things, application...   \n",
       "4  mbp, graphics, processor, ghz, card, cores, me...   \n",
       "\n",
       "                                      Tokenized Text  \\\n",
       "0  [upgraded, model, early, quad, core, macbook, ...   \n",
       "1  [excellent, laptops, remarkably, similar, feat...   \n",
       "2  [however, makes, difference, pure, raw, proces...   \n",
       "3  [applications, must, written, specific, way, t...   \n",
       "4  [cores, underutilized, processing, speed, use,...   \n",
       "\n",
       "                                       Original Text  \n",
       "0  I upgraded to this model (early 2011 Quad Core...  \n",
       "1  Both have been excellent laptops and have rema...  \n",
       "2  However, what makes the difference here is pur...  \n",
       "3  Applications must be written in a specific way...  \n",
       "4  If some of the cores are underutilized then th...  "
      ],
      "text/html": "<div>\n<style scoped>\n    .dataframe tbody tr th:only-of-type {\n        vertical-align: middle;\n    }\n\n    .dataframe tbody tr th {\n        vertical-align: top;\n    }\n\n    .dataframe thead th {\n        text-align: right;\n    }\n</style>\n<table border=\"1\" class=\"dataframe\">\n  <thead>\n    <tr style=\"text-align: right;\">\n      <th></th>\n      <th>Document_No</th>\n      <th>Dominant_Topic</th>\n      <th>Topic_Perc_Contrib</th>\n      <th>Keywords</th>\n      <th>Tokenized Text</th>\n      <th>Original Text</th>\n    </tr>\n  </thead>\n  <tbody>\n    <tr>\n      <th>0</th>\n      <td>0</td>\n      <td>3.0</td>\n      <td>0.5234</td>\n      <td>great, amazon, core, upgraded, laptop, apple, ...</td>\n      <td>[upgraded, model, early, quad, core, macbook, ...</td>\n      <td>I upgraded to this model (early 2011 Quad Core...</td>\n    </tr>\n    <tr>\n      <th>1</th>\n      <td>1</td>\n      <td>6.0</td>\n      <td>0.9859</td>\n      <td>screen, computer, battery, resolution, machine...</td>\n      <td>[excellent, laptops, remarkably, similar, feat...</td>\n      <td>Both have been excellent laptops and have rema...</td>\n    </tr>\n    <tr>\n      <th>2</th>\n      <td>2</td>\n      <td>4.0</td>\n      <td>0.8521</td>\n      <td>mbp, graphics, processor, ghz, card, cores, me...</td>\n      <td>[however, makes, difference, pure, raw, proces...</td>\n      <td>However, what makes the difference here is pur...</td>\n    </tr>\n    <tr>\n      <th>3</th>\n      <td>3</td>\n      <td>2.0</td>\n      <td>0.4617</td>\n      <td>amazon, mac, system, find, things, application...</td>\n      <td>[applications, must, written, specific, way, t...</td>\n      <td>Applications must be written in a specific way...</td>\n    </tr>\n    <tr>\n      <th>4</th>\n      <td>4</td>\n      <td>4.0</td>\n      <td>0.9832</td>\n      <td>mbp, graphics, processor, ghz, card, cores, me...</td>\n      <td>[cores, underutilized, processing, speed, use,...</td>\n      <td>If some of the cores are underutilized then th...</td>\n    </tr>\n  </tbody>\n</table>\n</div>"
     },
     "metadata": {},
     "execution_count": 156
    }
   ],
   "source": [
    "#df_topic_sents_keywords = format_topics_sentences(ldamodel=model_list[1], corpus=sg_vecs, data=sg_docs)\n",
    "df_topic_sents_keywords = format_topics_sentences(ldamodel=lda_mallet, corpus=vecs, data=docs, ori_data=sent_df)\n",
    "\n",
    "# Format\n",
    "df_dominant_topic = df_topic_sents_keywords.reset_index()\n",
    "df_dominant_topic.columns = ['Document_No', 'Dominant_Topic', 'Topic_Perc_Contrib', 'Keywords', 'Tokenized Text', 'Original Text']\n",
    "\n",
    "# Show\n",
    "df_dominant_topic.head()"
   ]
  },
  {
   "cell_type": "code",
   "execution_count": 160,
   "metadata": {},
   "outputs": [
    {
     "output_type": "stream",
     "name": "stderr",
     "text": [
      "/Users/chenjianyu/Library/Python/3.9/lib/python/site-packages/ipykernel/ipkernel.py:287: DeprecationWarning: `should_run_async` will not call `transform_cell` automatically in the future. Please pass the result to `transformed_cell` argument and any exception that happen during thetransform in `preprocessing_exc_tuple` in IPython 7.17 and above.\n  and should_run_async(code)\n"
     ]
    }
   ],
   "source": [
    "df_dominant_topic.to_csv('test.csv')"
   ]
  },
  {
   "cell_type": "code",
   "execution_count": null,
   "metadata": {},
   "outputs": [],
   "source": []
  },
  {
   "cell_type": "code",
   "execution_count": null,
   "metadata": {},
   "outputs": [],
   "source": []
  },
  {
   "cell_type": "code",
   "execution_count": 71,
   "metadata": {},
   "outputs": [
    {
     "output_type": "stream",
     "name": "stderr",
     "text": [
      "/Users/chenjianyu/Library/Python/3.9/lib/python/site-packages/ipykernel/ipkernel.py:287: DeprecationWarning: `should_run_async` will not call `transform_cell` automatically in the future. Please pass the result to `transformed_cell` argument and any exception that happen during thetransform in `preprocessing_exc_tuple` in IPython 7.17 and above.\n",
      "  and should_run_async(code)\n",
      "Time:  30.007054035999317\n"
     ]
    }
   ],
   "source": [
    "df = pd.read_csv('./Data/Cleaned Data/laptops_reviews.csv')\n",
    "\n",
    "start = timeit.default_timer()\n",
    "df = get_vader_sentiment(df)\n",
    "stop = timeit.default_timer()\n",
    "print('Time: ', stop - start) \n",
    "# print('vader complete')\n",
    "# df = get_textblob_sentiment(df)\n",
    "# print('textblob complete')\n",
    "# df = classify_emotions(df)\n",
    "# print('emotions complete')\n",
    "# print(filename, 'complete')\n",
    "# print()\n",
    "\n",
    "# df.to_csv(f'./Data/Cleaned Data/{filename}')"
   ]
  },
  {
   "cell_type": "code",
   "execution_count": 63,
   "metadata": {},
   "outputs": [
    {
     "output_type": "stream",
     "name": "stderr",
     "text": [
      "/Users/chenjianyu/Library/Python/3.9/lib/python/site-packages/ipykernel/ipkernel.py:287: DeprecationWarning: `should_run_async` will not call `transform_cell` automatically in the future. Please pass the result to `transformed_cell` argument and any exception that happen during thetransform in `preprocessing_exc_tuple` in IPython 7.17 and above.\n  and should_run_async(code)\n"
     ]
    }
   ],
   "source": [
    "def get_top_positive_reviews(category, pid, n):\n",
    "    df = pd.read_csv(f'./Data/Cleaned Data/{category}_reviews.csv')\n",
    "    prod_id = df.set_index('ProductID')\n",
    "    reviews = prod_id.loc[pid].sort_values(by='Vader_compound_score')['Content'].to_list()\n",
    "    print(f'Product ID: {pid}\\n')\n",
    "\n",
    "    names = list(set(prod_id.loc[pid]['Product_Name'].to_list()))\n",
    "    for i in range(len(names)):\n",
    "        if i == 0:\n",
    "            print(f'Product Name:\\n{names[i]}')\n",
    "        else:\n",
    "            print(' '*14 + str(names[i]))\n",
    "    print()\n",
    "        \n",
    "    for i in range(n):\n",
    "        print(f'Rank {i+1} review:\\n{reviews[i]}')\n",
    "        print()\n",
    "    \n",
    "def get_top_negative_reviews(category, pid, n):\n",
    "    df = pd.read_csv(f'./Data/Cleaned Data/{category}_reviews.csv')\n",
    "    prod_id = df.set_index('ProductID')\n",
    "    reviews = prod_id.loc[pid].sort_values(by='Vader_compound_score', ascending=False)['Content'].to_list()\n",
    "    print(f'Product ID: {pid}\\n')\n",
    "\n",
    "    names = list(set(prod_id.loc[pid]['Product_Name'].to_list()))\n",
    "    for i in range(len(names)):\n",
    "        if i == 0:\n",
    "            print(f'Product Name:\\n{names[i]}')\n",
    "        else:\n",
    "            print(' '*14 + str(names[i]))\n",
    "    print()\n",
    "        \n",
    "    for i in range(n):\n",
    "        print(f'Rank {i+1} review:\\n{reviews[i]}')\n",
    "        print()"
   ]
  },
  {
   "cell_type": "code",
   "execution_count": 62,
   "metadata": {},
   "outputs": [
    {
     "output_type": "stream",
     "name": "stderr",
     "text": [
      "/Users/chenjianyu/Library/Python/3.9/lib/python/site-packages/ipykernel/ipkernel.py:287: DeprecationWarning: `should_run_async` will not call `transform_cell` automatically in the future. Please pass the result to `transformed_cell` argument and any exception that happen during thetransform in `preprocessing_exc_tuple` in IPython 7.17 and above.\n",
      "  and should_run_async(code)\n",
      "Product ID: B004FG793G\n",
      "\n",
      "Product Name:\n",
      "Apple MacBook 13\" White Intel Core 2 Duo T7200, 2.0 GHZ, 1GB, 160 Gb Hard Drive, DVD Burner, Wi-fi, Camera, Mac Os 10.6 Snow Leopard and Ilife\n",
      "\n",
      "Rank 1 review:\n",
      "Got the Mac for Christmas 12'. Came with generic battery and generic charger. Called and they did send me Mac replacements and now 4 months later, the hard drive needs to be replaced and Apple wont touch it because its a generic hard drive. I am so disappointed. What a waste of time and money! I dont think products like this  should be allowed to to be resold. You take everything Mac out of them and fill it with a bunch of crappy pieces and make a killing off of it!\n",
      "\n",
      "Rank 2 review:\n",
      "Mobile Devices sold me this laptop for almost 300 dollars and when I received this product, it was nothing like what they said. When I tried to send it back I was to be nice like a normal person would and said its not what I was looking for and its too expensive I can afford it right now. They were going to make me pay a 56 dollar restocking fee which isn't my responsibility and was completely hateful saying its my fault so I must pay the fee. They said \"it cost me money when somebody just changes their mind and sends stuff back for no reason... this aint a rental service\" I mean if your going to have a business, learn to spell and use grammar and capitalization at least. Completely hateful DO NOT BUY FROM THEM.\n",
      "\n",
      "Rank 3 review:\n",
      "I was worried about ordering a used laptop but now I couldn't be more happy. Its exactly as advertised, everything works correctly, and looks brand new! Im really happy that I bought it off of here. Plus It came sooner than expected which is even better!!\n",
      "\n",
      "Rank 4 review:\n",
      "My daughter's MacBook Air battery bulged deforming the keyboard couple days ago. It took 3 days to make an appointment at the local Apple store. I'm not sure what happened next but she came back home crying with a piece of paper in her hand that showed $129 for new battery, $39 to replace it and $139 for a new keyboard. I could not believe they did not consider the battery as defective so I went to the Apple store myself and asked for a manager.  He explained to me the battery expansion is \"normal\".  Apple doesn't cover battery expansion under any circumstances not even under the Apple Care.  The battery is simply considered \"consumable\" and NOT covered.I asked the manager if he feels comfortable with me posting the picture of the MacBook Air on the internet with the description that Apple doesn't consider the product defective.  His reply astonished me, looking down at me from behind his thick glasses he said: \"Make sure you have your facts straight before you smear! They will contact you.\"  He didn't specify who are \"they\" but from the tone of his voice and his 6'5\" posture it indicated something between the SWAT team and a bunch of LAWYERS.Here is my take on all of this, the business model Apple pushes right now is to get some cheap junk from China, hire a bunch of cheerleaders straight out of high school, call them geniuses, and bully everybody who complains about their product.  Steve Jobs is dead, so is Apple.No more Apple devices in my household.  Please Google \"MacBook battery bulging exploding\" before you buy your next Apple toy.\n",
      "\n",
      "Rank 5 review:\n",
      "Upon receiving this computer, everything looked great. Within a few days though, serious problem arose. It lags terribly and freezes constantly. It will not allow me to use itunes unless I pay to upgrade my operating system (because the operating system is too old). I am not able to delete or add anything. I have a few files on the computer (for school) and that seems to be all I can have. The computer just overall doesn't work and I understand each refurbrished computer will be different from every other. This one is a lemon though, and I want my $500 (almost) dollars back since it is not worth it EVEN REMOTELY.\n",
      "\n"
     ]
    }
   ],
   "source": [
    "# get_top_positive_reviews('laptops', 'B004FG793G', 5)\n",
    "get_top_negative_reviews('laptops', 'B004FG793G', 5)"
   ]
  },
  {
   "cell_type": "code",
   "execution_count": 69,
   "metadata": {},
   "outputs": [
    {
     "output_type": "stream",
     "name": "stderr",
     "text": [
      "/Users/chenjianyu/Library/Python/3.9/lib/python/site-packages/ipykernel/ipkernel.py:287: DeprecationWarning: `should_run_async` will not call `transform_cell` automatically in the future. Please pass the result to `transformed_cell` argument and any exception that happen during thetransform in `preprocessing_exc_tuple` in IPython 7.17 and above.\n",
      "  and should_run_async(code)\n",
      "Time:  29.86274343199875\n"
     ]
    }
   ],
   "source": [
    "df = pd.read_csv(f'./Data/Cleaned Data/laptops_reviews.csv')\n",
    "\n",
    "from nltk.sentiment.vader import SentimentIntensityAnalyzer\n",
    "vader_analyser = SentimentIntensityAnalyzer()\n",
    "import timeit\n",
    "\n",
    "def compound(x):\n",
    "    score = vader_analyser.polarity_scores(x)\n",
    "    return score['compound']\n",
    "\n",
    "\n",
    "start = timeit.default_timer()\n",
    "\n",
    "df['test'] = df['Content'].apply(lambda x: compound(x))\n",
    "\n",
    "stop = timeit.default_timer()\n",
    "\n",
    "print('Time: ', stop - start) \n"
   ]
  },
  {
   "cell_type": "code",
   "execution_count": null,
   "metadata": {},
   "outputs": [],
   "source": [
    "def vader_compound_score(x):\n",
    "    vader_analyser = SentimentIntensityAnalyzer()\n",
    "    score = vader_analyser.polarity_scores(x)\n",
    "    return score['compound']\n",
    "\n",
    "def vader_sentiment(df):\n",
    "    df['test'] = df['Content'].apply(lambda x: vader_compound_score(x))\n",
    "    return df\n",
    "\n",
    "def textblob_sentiment(df):\n",
    "    df['test1'] = df['Content'].apply(lambda x: TextBlob(x).sentiment.polarity)\n",
    "    df['test2'] = df['Content'].apply(lambda x: TextBlob(x).sentiment.subjectivity)\n",
    "    return df\n",
    "\n",
    "def emotions(df):\n",
    "    emotions_clf = pickle.load(open('tfidf_svm.sav', 'rb'))\n",
    "    df['test3'] = df['Content'].apply(lambda x: emotions_clf.predict(x))\n",
    "    return df\n",
    "\n",
    "def sent_tokenize_then_to_df(df):\n",
    "    sentences_dict = {'Sentences': [], 'Comment Datetime': []}\n",
    "\n",
    "    for i, row in df.iterrows():\n",
    "        sentences = sent_tokenize(df['Comments'].iloc[i])\n",
    "        for sent in sentences:\n",
    "            sentences_dict['Sentences'].append(sent)\n",
    "            sentences_dict['Comment Datetime'].append(df['Comment Datetime'].iloc[i])\n",
    "\n",
    "    final_df = pd.DataFrame(sentences_dict)\n",
    "    final_df.drop_duplicates(subset=['Sentences'], inplace=True)\n",
    "    final_df.reset_index(inplace=True)\n",
    "    return final_df"
   ]
  },
  {
   "cell_type": "code",
   "execution_count": null,
   "metadata": {},
   "outputs": [],
   "source": []
  },
  {
   "cell_type": "code",
   "execution_count": null,
   "metadata": {},
   "outputs": [],
   "source": []
  },
  {
   "source": [
    "df.head()"
   ],
   "cell_type": "code",
   "metadata": {},
   "execution_count": 70,
   "outputs": [
    {
     "output_type": "stream",
     "name": "stderr",
     "text": [
      "/Users/chenjianyu/Library/Python/3.9/lib/python/site-packages/ipykernel/ipkernel.py:287: DeprecationWarning: `should_run_async` will not call `transform_cell` automatically in the future. Please pass the result to `transformed_cell` argument and any exception that happen during thetransform in `preprocessing_exc_tuple` in IPython 7.17 and above.\n  and should_run_async(code)\n"
     ]
    },
    {
     "output_type": "execute_result",
     "data": {
      "text/plain": [
       "                                               Title  \\\n",
       "0  Thin, light and good screen. Mediocre battery ...   \n",
       "1  Beautiful, light computer but Acer Quality Con...   \n",
       "2                                      Great device!   \n",
       "3                                         Quite good   \n",
       "4                                 Very disappointing   \n",
       "\n",
       "                     Author        ReviewID  Overall  \\\n",
       "0  Peter in McLean \"PeterK\"  R1S7JV3G6KBOTU      3.0   \n",
       "1                    tungty  R2HU61RJX6H19A      4.0   \n",
       "2               Julio Perez  R2W94ZVV3L452Z      5.0   \n",
       "3                      rid1  R1NA3QNCRJ297N      5.0   \n",
       "4                       Rev  R1CYHY70XPLRNA      1.0   \n",
       "\n",
       "                                             Content               Date  \\\n",
       "0  I've had the S7-391 with 4Gb RAM and a 256 GB ...  November 29, 2013   \n",
       "1  This would be a 5-star review if it were not f...      June 16, 2013   \n",
       "2  Exactly as described! Fast laptop. One of the ...       May 17, 2013   \n",
       "3  I bought this laptop after doing my research a...        May 5, 2013   \n",
       "4  After living with the Aspire S7 for 5 months, ...    August 21, 2013   \n",
       "\n",
       "                                        Product_Name  \\\n",
       "0  Acer Aspire S7-391-6468 13.3-Inch Touchscreen ...   \n",
       "1  Acer Aspire S7-391-6468 13.3-Inch Touchscreen ...   \n",
       "2  Acer Aspire S7-391-6468 13.3-Inch Touchscreen ...   \n",
       "3  Acer Aspire S7-391-6468 13.3-Inch Touchscreen ...   \n",
       "4  Acer Aspire S7-391-6468 13.3-Inch Touchscreen ...   \n",
       "\n",
       "                                    Product_Features Product_Price  \\\n",
       "0  Intel Core i5-3337U 1.8 GHz (3 MB Cache)\\n4 GB...     $1,299.99   \n",
       "1  Intel Core i5-3337U 1.8 GHz (3 MB Cache)\\n4 GB...     $1,299.99   \n",
       "2  Intel Core i5-3337U 1.8 GHz (3 MB Cache)\\n4 GB...     $1,299.99   \n",
       "3  Intel Core i5-3337U 1.8 GHz (3 MB Cache)\\n4 GB...     $1,299.99   \n",
       "4  Intel Core i5-3337U 1.8 GHz (3 MB Cache)\\n4 GB...     $1,299.99   \n",
       "\n",
       "    ProductID  Vader_neg_score  Vader_neu_score  Vader_pos_score  \\\n",
       "0  B00HSYS3LO            0.054            0.816            0.131   \n",
       "1  B00HSYS3LO            0.071            0.784            0.144   \n",
       "2  B00HSYS3LO            0.000            0.659            0.341   \n",
       "3  B00HSYS3LO            0.000            0.871            0.129   \n",
       "4  B00HSYS3LO            0.098            0.840            0.062   \n",
       "\n",
       "   Vader_compound_score  Textblob_polarity_score  Textblob_subjectivity_score  \\\n",
       "0                0.9880                 0.142128                     0.565130   \n",
       "1                0.9816                 0.101806                     0.559583   \n",
       "2                0.9077                 0.315119                     0.563810   \n",
       "3                0.9666                 0.207687                     0.435540   \n",
       "4               -0.8102                 0.042369                     0.577346   \n",
       "\n",
       "  Emotions    test  \n",
       "0    anger  0.9880  \n",
       "1      joy  0.9816  \n",
       "2      joy  0.9077  \n",
       "3      joy  0.9666  \n",
       "4     fear -0.8102  "
      ],
      "text/html": "<div>\n<style scoped>\n    .dataframe tbody tr th:only-of-type {\n        vertical-align: middle;\n    }\n\n    .dataframe tbody tr th {\n        vertical-align: top;\n    }\n\n    .dataframe thead th {\n        text-align: right;\n    }\n</style>\n<table border=\"1\" class=\"dataframe\">\n  <thead>\n    <tr style=\"text-align: right;\">\n      <th></th>\n      <th>Title</th>\n      <th>Author</th>\n      <th>ReviewID</th>\n      <th>Overall</th>\n      <th>Content</th>\n      <th>Date</th>\n      <th>Product_Name</th>\n      <th>Product_Features</th>\n      <th>Product_Price</th>\n      <th>ProductID</th>\n      <th>Vader_neg_score</th>\n      <th>Vader_neu_score</th>\n      <th>Vader_pos_score</th>\n      <th>Vader_compound_score</th>\n      <th>Textblob_polarity_score</th>\n      <th>Textblob_subjectivity_score</th>\n      <th>Emotions</th>\n      <th>test</th>\n    </tr>\n  </thead>\n  <tbody>\n    <tr>\n      <th>0</th>\n      <td>Thin, light and good screen. Mediocre battery ...</td>\n      <td>Peter in McLean \"PeterK\"</td>\n      <td>R1S7JV3G6KBOTU</td>\n      <td>3.0</td>\n      <td>I've had the S7-391 with 4Gb RAM and a 256 GB ...</td>\n      <td>November 29, 2013</td>\n      <td>Acer Aspire S7-391-6468 13.3-Inch Touchscreen ...</td>\n      <td>Intel Core i5-3337U 1.8 GHz (3 MB Cache)\\n4 GB...</td>\n      <td>$1,299.99</td>\n      <td>B00HSYS3LO</td>\n      <td>0.054</td>\n      <td>0.816</td>\n      <td>0.131</td>\n      <td>0.9880</td>\n      <td>0.142128</td>\n      <td>0.565130</td>\n      <td>anger</td>\n      <td>0.9880</td>\n    </tr>\n    <tr>\n      <th>1</th>\n      <td>Beautiful, light computer but Acer Quality Con...</td>\n      <td>tungty</td>\n      <td>R2HU61RJX6H19A</td>\n      <td>4.0</td>\n      <td>This would be a 5-star review if it were not f...</td>\n      <td>June 16, 2013</td>\n      <td>Acer Aspire S7-391-6468 13.3-Inch Touchscreen ...</td>\n      <td>Intel Core i5-3337U 1.8 GHz (3 MB Cache)\\n4 GB...</td>\n      <td>$1,299.99</td>\n      <td>B00HSYS3LO</td>\n      <td>0.071</td>\n      <td>0.784</td>\n      <td>0.144</td>\n      <td>0.9816</td>\n      <td>0.101806</td>\n      <td>0.559583</td>\n      <td>joy</td>\n      <td>0.9816</td>\n    </tr>\n    <tr>\n      <th>2</th>\n      <td>Great device!</td>\n      <td>Julio Perez</td>\n      <td>R2W94ZVV3L452Z</td>\n      <td>5.0</td>\n      <td>Exactly as described! Fast laptop. One of the ...</td>\n      <td>May 17, 2013</td>\n      <td>Acer Aspire S7-391-6468 13.3-Inch Touchscreen ...</td>\n      <td>Intel Core i5-3337U 1.8 GHz (3 MB Cache)\\n4 GB...</td>\n      <td>$1,299.99</td>\n      <td>B00HSYS3LO</td>\n      <td>0.000</td>\n      <td>0.659</td>\n      <td>0.341</td>\n      <td>0.9077</td>\n      <td>0.315119</td>\n      <td>0.563810</td>\n      <td>joy</td>\n      <td>0.9077</td>\n    </tr>\n    <tr>\n      <th>3</th>\n      <td>Quite good</td>\n      <td>rid1</td>\n      <td>R1NA3QNCRJ297N</td>\n      <td>5.0</td>\n      <td>I bought this laptop after doing my research a...</td>\n      <td>May 5, 2013</td>\n      <td>Acer Aspire S7-391-6468 13.3-Inch Touchscreen ...</td>\n      <td>Intel Core i5-3337U 1.8 GHz (3 MB Cache)\\n4 GB...</td>\n      <td>$1,299.99</td>\n      <td>B00HSYS3LO</td>\n      <td>0.000</td>\n      <td>0.871</td>\n      <td>0.129</td>\n      <td>0.9666</td>\n      <td>0.207687</td>\n      <td>0.435540</td>\n      <td>joy</td>\n      <td>0.9666</td>\n    </tr>\n    <tr>\n      <th>4</th>\n      <td>Very disappointing</td>\n      <td>Rev</td>\n      <td>R1CYHY70XPLRNA</td>\n      <td>1.0</td>\n      <td>After living with the Aspire S7 for 5 months, ...</td>\n      <td>August 21, 2013</td>\n      <td>Acer Aspire S7-391-6468 13.3-Inch Touchscreen ...</td>\n      <td>Intel Core i5-3337U 1.8 GHz (3 MB Cache)\\n4 GB...</td>\n      <td>$1,299.99</td>\n      <td>B00HSYS3LO</td>\n      <td>0.098</td>\n      <td>0.840</td>\n      <td>0.062</td>\n      <td>-0.8102</td>\n      <td>0.042369</td>\n      <td>0.577346</td>\n      <td>fear</td>\n      <td>-0.8102</td>\n    </tr>\n  </tbody>\n</table>\n</div>"
     },
     "metadata": {},
     "execution_count": 70
    }
   ]
  },
  {
   "cell_type": "code",
   "execution_count": null,
   "metadata": {},
   "outputs": [],
   "source": []
  }
 ]
}