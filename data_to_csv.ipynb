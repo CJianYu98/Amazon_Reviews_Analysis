{
 "metadata": {
  "language_info": {
   "codemirror_mode": {
    "name": "ipython",
    "version": 3
   },
   "file_extension": ".py",
   "mimetype": "text/x-python",
   "name": "python",
   "nbconvert_exporter": "python",
   "pygments_lexer": "ipython3",
   "version": "3.9.0-final"
  },
  "orig_nbformat": 2,
  "kernelspec": {
   "name": "python3",
   "display_name": "Python 3.9.0 64-bit",
   "metadata": {
    "interpreter": {
     "hash": "7812ea015bdcee6f23a998adcdd2ef97c151c0c241b7b7070987d9313e41299d"
    }
   }
  }
 },
 "nbformat": 4,
 "nbformat_minor": 2,
 "cells": [
  {
   "cell_type": "code",
   "execution_count": 1,
   "metadata": {},
   "outputs": [],
   "source": [
    "import pandas as pd\n",
    "from pandas.io.json import json_normalize\n",
    "import json\n",
    "import os\n",
    "import glob"
   ]
  },
  {
   "source": [
    "## Converting json data files to readable csv format for reviews, and for every product category"
   ],
   "cell_type": "markdown",
   "metadata": {}
  },
  {
   "source": [
    "### Creating a empty df to store the reviews for each product category"
   ],
   "cell_type": "markdown",
   "metadata": {}
  },
  {
   "cell_type": "code",
   "execution_count": 32,
   "metadata": {},
   "outputs": [],
   "source": [
    "laptop_df = pd.DataFrame()"
   ]
  },
  {
   "source": [
    "### Iterating through all the json files under one product category to add into the empty df"
   ],
   "cell_type": "markdown",
   "metadata": {}
  },
  {
   "cell_type": "code",
   "execution_count": 33,
   "metadata": {},
   "outputs": [],
   "source": [
    "# using glob library packages to iterate all the json files in the directory\n",
    "path = '/Users/chenjianyu/Desktop/Y2S2/IS450 Text Mining and Language Processing/Project/AmazonReviews/laptops'\n",
    "for filename in glob.glob(os.path.join(path, '*.json')):\n",
    "    with open(os.path.join(os.getcwd(), filename), 'r') as f:\n",
    "        data = json.load(f) #loading json data file\n",
    "        df = json_normalize(data) # normalizing json data as there may be mixed data types in the json file\n",
    "        df1 = pd.DataFrame(df['Reviews'][0]) # extracting the reviews and store in a temp df\n",
    "        if len(df) != 0: # check if df is empty\n",
    "            # empty df means that there was no text review by that user, and we want to remove such data as it is not meaningful to us\n",
    "            df1['Product_ProductID'] = df.iloc[0]['ProductInfo.ProductID']\n",
    "            df1['Product_Name'] = df.iloc[0]['ProductInfo.Name']\n",
    "            df1['Product_Features'] = df.iloc[0]['ProductInfo.Features']\n",
    "            df1['Product_Price'] = df.iloc[0]['ProductInfo.Price']\n",
    "            df1['Product_ImgURL'] = df.iloc[0]['ProductInfo.ImgURL']\n",
    "            \n",
    "            laptop_df = laptop_df.append(df1, ignore_index = True) # append into the product df created earlier if there is a review"
   ]
  },
  {
   "cell_type": "code",
   "execution_count": 38,
   "metadata": {},
   "outputs": [
    {
     "output_type": "execute_result",
     "data": {
      "text/plain": [
       "                                               Title  \\\n",
       "0  Thin, light and good screen. Mediocre battery ...   \n",
       "1  Beautiful, light computer but Acer Quality Con...   \n",
       "2                                      Great device!   \n",
       "3                                         Quite good   \n",
       "4                                 Very disappointing   \n",
       "\n",
       "                     Author        ReviewID Overall  \\\n",
       "0  Peter in McLean \"PeterK\"  R1S7JV3G6KBOTU     3.0   \n",
       "1                    tungty  R2HU61RJX6H19A     4.0   \n",
       "2               Julio Perez  R2W94ZVV3L452Z     5.0   \n",
       "3                      rid1  R1NA3QNCRJ297N     5.0   \n",
       "4                       Rev  R1CYHY70XPLRNA     1.0   \n",
       "\n",
       "                                             Content               Date  \\\n",
       "0  I've had the S7-391 with 4Gb RAM and a 256 GB ...  November 29, 2013   \n",
       "1  This would be a 5-star review if it were not f...      June 16, 2013   \n",
       "2  Exactly as described! Fast laptop. One of the ...       May 17, 2013   \n",
       "3  I bought this laptop after doing my research a...        May 5, 2013   \n",
       "4  After living with the Aspire S7 for 5 months, ...    August 21, 2013   \n",
       "\n",
       "  Product_ProductID                                       Product_Name  \\\n",
       "0        B00AVYPLF4  Acer Aspire S7-391-6468 13.3-Inch Touchscreen ...   \n",
       "1        B00AVYPLF4  Acer Aspire S7-391-6468 13.3-Inch Touchscreen ...   \n",
       "2        B00AVYPLF4  Acer Aspire S7-391-6468 13.3-Inch Touchscreen ...   \n",
       "3        B00AVYPLF4  Acer Aspire S7-391-6468 13.3-Inch Touchscreen ...   \n",
       "4        B00AVYPLF4  Acer Aspire S7-391-6468 13.3-Inch Touchscreen ...   \n",
       "\n",
       "                                    Product_Features Product_Price  \\\n",
       "0  Intel Core i5-3337U 1.8 GHz (3 MB Cache)\\n4 GB...     $1,299.99   \n",
       "1  Intel Core i5-3337U 1.8 GHz (3 MB Cache)\\n4 GB...     $1,299.99   \n",
       "2  Intel Core i5-3337U 1.8 GHz (3 MB Cache)\\n4 GB...     $1,299.99   \n",
       "3  Intel Core i5-3337U 1.8 GHz (3 MB Cache)\\n4 GB...     $1,299.99   \n",
       "4  Intel Core i5-3337U 1.8 GHz (3 MB Cache)\\n4 GB...     $1,299.99   \n",
       "\n",
       "                                      Product_ImgURL  \n",
       "0  \\ndata:image/jpeg;base64,/9j/4AAQSkZJRgABAQAAA...  \n",
       "1  \\ndata:image/jpeg;base64,/9j/4AAQSkZJRgABAQAAA...  \n",
       "2  \\ndata:image/jpeg;base64,/9j/4AAQSkZJRgABAQAAA...  \n",
       "3  \\ndata:image/jpeg;base64,/9j/4AAQSkZJRgABAQAAA...  \n",
       "4  \\ndata:image/jpeg;base64,/9j/4AAQSkZJRgABAQAAA...  "
      ],
      "text/html": "<div>\n<style scoped>\n    .dataframe tbody tr th:only-of-type {\n        vertical-align: middle;\n    }\n\n    .dataframe tbody tr th {\n        vertical-align: top;\n    }\n\n    .dataframe thead th {\n        text-align: right;\n    }\n</style>\n<table border=\"1\" class=\"dataframe\">\n  <thead>\n    <tr style=\"text-align: right;\">\n      <th></th>\n      <th>Title</th>\n      <th>Author</th>\n      <th>ReviewID</th>\n      <th>Overall</th>\n      <th>Content</th>\n      <th>Date</th>\n      <th>Product_ProductID</th>\n      <th>Product_Name</th>\n      <th>Product_Features</th>\n      <th>Product_Price</th>\n      <th>Product_ImgURL</th>\n    </tr>\n  </thead>\n  <tbody>\n    <tr>\n      <th>0</th>\n      <td>Thin, light and good screen. Mediocre battery ...</td>\n      <td>Peter in McLean \"PeterK\"</td>\n      <td>R1S7JV3G6KBOTU</td>\n      <td>3.0</td>\n      <td>I've had the S7-391 with 4Gb RAM and a 256 GB ...</td>\n      <td>November 29, 2013</td>\n      <td>B00AVYPLF4</td>\n      <td>Acer Aspire S7-391-6468 13.3-Inch Touchscreen ...</td>\n      <td>Intel Core i5-3337U 1.8 GHz (3 MB Cache)\\n4 GB...</td>\n      <td>$1,299.99</td>\n      <td>\\ndata:image/jpeg;base64,/9j/4AAQSkZJRgABAQAAA...</td>\n    </tr>\n    <tr>\n      <th>1</th>\n      <td>Beautiful, light computer but Acer Quality Con...</td>\n      <td>tungty</td>\n      <td>R2HU61RJX6H19A</td>\n      <td>4.0</td>\n      <td>This would be a 5-star review if it were not f...</td>\n      <td>June 16, 2013</td>\n      <td>B00AVYPLF4</td>\n      <td>Acer Aspire S7-391-6468 13.3-Inch Touchscreen ...</td>\n      <td>Intel Core i5-3337U 1.8 GHz (3 MB Cache)\\n4 GB...</td>\n      <td>$1,299.99</td>\n      <td>\\ndata:image/jpeg;base64,/9j/4AAQSkZJRgABAQAAA...</td>\n    </tr>\n    <tr>\n      <th>2</th>\n      <td>Great device!</td>\n      <td>Julio Perez</td>\n      <td>R2W94ZVV3L452Z</td>\n      <td>5.0</td>\n      <td>Exactly as described! Fast laptop. One of the ...</td>\n      <td>May 17, 2013</td>\n      <td>B00AVYPLF4</td>\n      <td>Acer Aspire S7-391-6468 13.3-Inch Touchscreen ...</td>\n      <td>Intel Core i5-3337U 1.8 GHz (3 MB Cache)\\n4 GB...</td>\n      <td>$1,299.99</td>\n      <td>\\ndata:image/jpeg;base64,/9j/4AAQSkZJRgABAQAAA...</td>\n    </tr>\n    <tr>\n      <th>3</th>\n      <td>Quite good</td>\n      <td>rid1</td>\n      <td>R1NA3QNCRJ297N</td>\n      <td>5.0</td>\n      <td>I bought this laptop after doing my research a...</td>\n      <td>May 5, 2013</td>\n      <td>B00AVYPLF4</td>\n      <td>Acer Aspire S7-391-6468 13.3-Inch Touchscreen ...</td>\n      <td>Intel Core i5-3337U 1.8 GHz (3 MB Cache)\\n4 GB...</td>\n      <td>$1,299.99</td>\n      <td>\\ndata:image/jpeg;base64,/9j/4AAQSkZJRgABAQAAA...</td>\n    </tr>\n    <tr>\n      <th>4</th>\n      <td>Very disappointing</td>\n      <td>Rev</td>\n      <td>R1CYHY70XPLRNA</td>\n      <td>1.0</td>\n      <td>After living with the Aspire S7 for 5 months, ...</td>\n      <td>August 21, 2013</td>\n      <td>B00AVYPLF4</td>\n      <td>Acer Aspire S7-391-6468 13.3-Inch Touchscreen ...</td>\n      <td>Intel Core i5-3337U 1.8 GHz (3 MB Cache)\\n4 GB...</td>\n      <td>$1,299.99</td>\n      <td>\\ndata:image/jpeg;base64,/9j/4AAQSkZJRgABAQAAA...</td>\n    </tr>\n  </tbody>\n</table>\n</div>"
     },
     "metadata": {},
     "execution_count": 38
    }
   ],
   "source": [
    "laptop_df.head()"
   ]
  },
  {
   "cell_type": "code",
   "execution_count": 36,
   "metadata": {},
   "outputs": [
    {
     "output_type": "stream",
     "name": "stdout",
     "text": [
      "<class 'pandas.core.frame.DataFrame'>\nRangeIndex: 40762 entries, 0 to 40761\nData columns (total 11 columns):\n #   Column             Non-Null Count  Dtype \n---  ------             --------------  ----- \n 0   Title              40761 non-null  object\n 1   Author             40695 non-null  object\n 2   ReviewID           40762 non-null  object\n 3   Overall            40762 non-null  object\n 4   Content            40744 non-null  object\n 5   Date               40760 non-null  object\n 6   Product_ProductID  40762 non-null  object\n 7   Product_Name       20670 non-null  object\n 8   Product_Features   20577 non-null  object\n 9   Product_Price      19377 non-null  object\n 10  Product_ImgURL     20670 non-null  object\ndtypes: object(11)\nmemory usage: 3.4+ MB\n"
     ]
    }
   ],
   "source": [
    "laptop_df.info()"
   ]
  },
  {
   "cell_type": "code",
   "execution_count": 37,
   "metadata": {},
   "outputs": [],
   "source": [
    "laptop_df.to_csv('laptop_reviews.csv')"
   ]
  },
  {
   "source": [
    "## Repeat the same steps for every product category, codes are similar"
   ],
   "cell_type": "markdown",
   "metadata": {}
  },
  {
   "cell_type": "code",
   "execution_count": 14,
   "metadata": {},
   "outputs": [],
   "source": [
    "mobilephone_df = pd.DataFrame()"
   ]
  },
  {
   "cell_type": "code",
   "execution_count": 15,
   "metadata": {},
   "outputs": [],
   "source": [
    "# laptop_df = pd.DataFrame(columns = ['Author', 'Content', 'Date', 'Overall', 'ReviewID', 'Title'])\n",
    "\n",
    "path = '/Users/chenjianyu/Desktop/Y2S2/IS450 Text Mining and Language Processing/Project/AmazonReviews/mobilephone'\n",
    "for filename in glob.glob(os.path.join(path, '*.json')):\n",
    "    with open(os.path.join(os.getcwd(), filename), 'r') as f:\n",
    "        data = json.load(f)\n",
    "        df = json_normalize(data)\n",
    "        df1 = pd.DataFrame(df['Reviews'][0])\n",
    "        if len(df) != 0:\n",
    "            mobilephone_df = mobilephone_df.append(df1, ignore_index = True)"
   ]
  },
  {
   "cell_type": "code",
   "execution_count": 20,
   "metadata": {},
   "outputs": [],
   "source": [
    "mobilephone_df.to_csv('mobilephone_reviews.csv')"
   ]
  },
  {
   "cell_type": "code",
   "execution_count": 22,
   "metadata": {},
   "outputs": [],
   "source": [
    "tablets_df = pd.DataFrame()"
   ]
  },
  {
   "cell_type": "code",
   "execution_count": 23,
   "metadata": {},
   "outputs": [],
   "source": [
    "# laptop_df = pd.DataFrame(columns = ['Author', 'Content', 'Date', 'Overall', 'ReviewID', 'Title'])\n",
    "\n",
    "path = '/Users/chenjianyu/Desktop/Y2S2/IS450 Text Mining and Language Processing/Project/AmazonReviews/tablets'\n",
    "for filename in glob.glob(os.path.join(path, '*.json')):\n",
    "    with open(os.path.join(os.getcwd(), filename), 'r') as f:\n",
    "        data = json.load(f)\n",
    "        df = json_normalize(data)\n",
    "        df1 = pd.DataFrame(df['Reviews'][0])\n",
    "        if len(df) != 0:\n",
    "            tablets_df = tablets_df.append(df1, ignore_index = True)"
   ]
  },
  {
   "cell_type": "code",
   "execution_count": 24,
   "metadata": {},
   "outputs": [],
   "source": [
    "tablets_df.to_csv('tablets_reviews.csv')"
   ]
  },
  {
   "cell_type": "code",
   "execution_count": 25,
   "metadata": {},
   "outputs": [],
   "source": [
    "tv_df = pd.DataFrame()"
   ]
  },
  {
   "cell_type": "code",
   "execution_count": 26,
   "metadata": {},
   "outputs": [],
   "source": [
    "path = '/Users/chenjianyu/Desktop/Y2S2/IS450 Text Mining and Language Processing/Project/AmazonReviews/TVs'\n",
    "for filename in glob.glob(os.path.join(path, '*.json')):\n",
    "    with open(os.path.join(os.getcwd(), filename), 'r') as f:\n",
    "        data = json.load(f)\n",
    "        df = json_normalize(data)\n",
    "        df1 = pd.DataFrame(df['Reviews'][0])\n",
    "        if len(df) != 0:\n",
    "            tv_df = tv_df.append(df1, ignore_index = True)"
   ]
  },
  {
   "cell_type": "code",
   "execution_count": 27,
   "metadata": {},
   "outputs": [],
   "source": [
    "tv_df.to_csv('tv_reviews.csv')"
   ]
  },
  {
   "cell_type": "code",
   "execution_count": 28,
   "metadata": {},
   "outputs": [],
   "source": [
    "vs_df = pd.DataFrame()"
   ]
  },
  {
   "cell_type": "code",
   "execution_count": 29,
   "metadata": {},
   "outputs": [],
   "source": [
    "path = '/Users/chenjianyu/Desktop/Y2S2/IS450 Text Mining and Language Processing/Project/AmazonReviews/video_surveillance'\n",
    "for filename in glob.glob(os.path.join(path, '*.json')):\n",
    "    with open(os.path.join(os.getcwd(), filename), 'r') as f:\n",
    "        data = json.load(f)\n",
    "        df = json_normalize(data)\n",
    "        df1 = pd.DataFrame(df['Reviews'][0])\n",
    "        if len(df) != 0:\n",
    "            vs_df = vs_df.append(df1, ignore_index = True)"
   ]
  },
  {
   "cell_type": "code",
   "execution_count": 31,
   "metadata": {},
   "outputs": [],
   "source": [
    "vs_df.to_csv('vs_reviews.csv')"
   ]
  },
  {
   "cell_type": "code",
   "execution_count": 33,
   "metadata": {},
   "outputs": [],
   "source": [
    "cameras_df = pd.DataFrame()"
   ]
  },
  {
   "cell_type": "code",
   "execution_count": 34,
   "metadata": {},
   "outputs": [],
   "source": [
    "path = '/Users/chenjianyu/Desktop/Y2S2/IS450 Text Mining and Language Processing/Project/AmazonReviews/cameras'\n",
    "for filename in glob.glob(os.path.join(path, '*.json')):\n",
    "    with open(os.path.join(os.getcwd(), filename), 'r') as f:\n",
    "        data = json.load(f)\n",
    "        df = json_normalize(data)\n",
    "        df1 = pd.DataFrame(df['Reviews'][0])\n",
    "        if len(df) != 0:\n",
    "            cameras_df = cameras_df.append(df1, ignore_index = True)"
   ]
  },
  {
   "cell_type": "code",
   "execution_count": 35,
   "metadata": {},
   "outputs": [],
   "source": [
    "cameras_df.to_csv('cameras_reviews.csv')\n"
   ]
  }
 ]
}